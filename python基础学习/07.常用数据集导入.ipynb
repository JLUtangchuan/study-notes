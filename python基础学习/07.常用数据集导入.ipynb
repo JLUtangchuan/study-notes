{
 "cells": [
  {
   "cell_type": "markdown",
   "metadata": {},
   "source": [
    "# 常用数据集导入\n",
    "\n",
    "来源：\n",
    "- sklearn\n",
    "   - 鸢尾花数据集 iris\n",
    "- 网络\n",
    "   - 出生体重数据 Birth weight data\n",
    "   - 波士顿房价数据（Boston Housing data）\n",
    "   - MNIST\n",
    "   - CIFAR-10\n",
    "   \n",
    "##### 网络数据平台\n",
    "    1. Kaggle\n",
    "    2. 数据堂\n",
    "    3. UCI机器学习库  [UCI](http://archive.ics.uci.edu/ml/index.php/)\n",
    "    4. Amazon [Amazon 数据集](https://registry.opendata.aws/)\n",
    "    5. Awesome [Awesome 公开数据集]:https://github.com/awesomedata/awesome-public-datasets\n",
    "参考文章\n",
    "\n",
    "   [机器学习常用数据集](https://blog.csdn.net/weixin_38632246/article/details/86703642)\n",
    "\n",
    "### 学习内容\n",
    "    1. 学习数据集的导入，使用方法\n",
    "    2. 了解这些数据集分别对应的是ML的哪个领域\n",
    "    3. 学习如何从网络中抓取现成的dataset\n",
    "\n",
    "\n",
    "数据集名|数据描述|数据记录数|数据用途|下载地址\n",
    "-|-|-|-|-\n",
    "Iris|鸢尾花卉数据集|150|分类和聚类|http://archive.ics.uci.edu/ml/datasets/Iris\n",
    "Adult|美国人口普查数据|48842|分类和聚类|http://archive.ics.uci.edu/ml/datasets/Adult\n",
    "Wine|葡萄酒数据|178|分类和聚类|http://archive.ics.uci.edu/ml/datasets/Wine\n",
    "20 Newsgroups|新闻数据集|19997|文本分类和聚类|http://qwone.com/~jason/20Newsgroups/\n",
    "MovieLens|电影评分的数据集|26000000|推荐系统|https://grouplens.org/datasets/movielens/\n",
    "MNIST|手写字识别数据集|70000|手写字识别|http://yann.lecun.com/exdb/mnist/"
   ]
  },
  {
   "cell_type": "markdown",
   "metadata": {},
   "source": [
    "## 代码上手"
   ]
  },
  {
   "cell_type": "markdown",
   "metadata": {},
   "source": [
    "### iris 鸢尾花数据集"
   ]
  },
  {
   "cell_type": "code",
   "execution_count": 2,
   "metadata": {},
   "outputs": [
    {
     "name": "stdout",
     "output_type": "stream",
     "text": [
      "150\n",
      "(150, 4)\n",
      "[0 0 0 0 0 0 0 0 0 0 0 0 0 0 0 0 0 0 0 0 0 0 0 0 0 0 0 0 0 0 0 0 0 0 0 0 0\n",
      " 0 0 0 0 0 0 0 0 0 0 0 0 0 1 1 1 1 1 1 1 1 1 1 1 1 1 1 1 1 1 1 1 1 1 1 1 1\n",
      " 1 1 1 1 1 1 1 1 1 1 1 1 1 1 1 1 1 1 1 1 1 1 1 1 1 1 2 2 2 2 2 2 2 2 2 2 2\n",
      " 2 2 2 2 2 2 2 2 2 2 2 2 2 2 2 2 2 2 2 2 2 2 2 2 2 2 2 2 2 2 2 2 2 2 2 2 2\n",
      " 2 2]\n"
     ]
    }
   ],
   "source": [
    "from sklearn import datasets\n",
    "iris = datasets.load_iris()\n",
    "print(len(iris.data))\n",
    "print(iris.data.shape) # 150个样本 4个维度\n",
    "print(iris.target) # 3类花"
   ]
  },
  {
   "cell_type": "code",
   "execution_count": 3,
   "metadata": {},
   "outputs": [
    {
     "data": {
      "text/plain": [
       "['DESCR', 'data', 'feature_names', 'filename', 'target', 'target_names']"
      ]
     },
     "execution_count": 3,
     "metadata": {},
     "output_type": "execute_result"
    }
   ],
   "source": [
    "dir(iris)"
   ]
  },
  {
   "cell_type": "markdown",
   "metadata": {},
   "source": [
    "说明：\n",
    "- data 输入\n",
    "- target 标签   "
   ]
  },
  {
   "cell_type": "markdown",
   "metadata": {},
   "source": [
    "#### 做一个KNN分类\n",
    "k近邻算法的一般流程\n",
    "\n",
    "- 收集数据：可以使用任何方法。\n",
    "- 准备数据：距离计算所需要的数值，最好是结构化的数据格式。\n",
    "- 分析数据：可以使用任何方法。\n",
    "- 训练算法：此步骤不适用于k近邻算法。\n",
    "- 测试算法：计算错误率。\n",
    "- 使用算法：首先需要输入样本数据和结构化的输出结果，然后运行k近邻算法判定输入数据分别属于哪个分类，最后应用对计算出的分类执行后续的处理。\n"
   ]
  },
  {
   "cell_type": "code",
   "execution_count": 6,
   "metadata": {},
   "outputs": [
    {
     "data": {
      "text/plain": [
       "Text(0.5, 1.0, '散点图')"
      ]
     },
     "execution_count": 6,
     "metadata": {},
     "output_type": "execute_result"
    },
    {
     "data": {
      "image/png": "[encoded data removed]",
      "text/plain": [
       "<Figure size 432x288 with 1 Axes>"
      ]
     },
     "metadata": {
      "needs_background": "light"
     },
     "output_type": "display_data"
    }
   ],
   "source": [
    "import numpy as np\n",
    "import matplotlib.pyplot as plt\n",
    "plt.rcParams['font.sans-serif']=['SimHei'] #用来正常显示中文标签\n",
    "x = iris.data\n",
    "y = iris.target\n",
    "\n",
    "# 绘制前两维的散点图\n",
    "plt.scatter(x[y==1,0],x[y==1,1],color = 'red')\n",
    "plt.scatter(x[y==2,0],x[y==2,1],color = 'green')\n",
    "plt.scatter(x[y==0,0],x[y==0,1],color = 'yellow')\n",
    "plt.title('散点图')\n",
    "\n"
   ]
  },
  {
   "cell_type": "code",
   "execution_count": 16,
   "metadata": {},
   "outputs": [
    {
     "name": "stdout",
     "output_type": "stream",
     "text": [
      "The accuracy is 100.00 %\n"
     ]
    }
   ],
   "source": [
    "# 做KNN\n",
    "import numpy as np\n",
    "from sklearn.neighbors import KNeighborsClassifier\n",
    "from sklearn.model_selection import train_test_split\n",
    "# from sklearn.cross_validation import train_test_split #数据分割模块 CV 改版！！ model_selection\n",
    "\n",
    "# 数据分割\n",
    "X_train,X_test,Y_train,Y_test = train_test_split(x,y,test_size=0.3)\n",
    "\n",
    "\n",
    "knn = KNeighborsClassifier() #声明\n",
    "knn.fit(X_train,Y_train) #训练\n",
    "\n",
    "y_test_predict = knn.predict(X_test)\n",
    "\n",
    "acc = len(y_test_predict == Y_test)/len(y_test_predict)\n",
    "print('The accuracy is %.2f %%' %(acc*100))\n",
    "# print(y_test_predict)"
   ]
  },
  {
   "cell_type": "markdown",
   "metadata": {},
   "source": [
    "### 波士顿房价数据\n",
    "\n",
    "来源\n",
    "> https://archive.ics.uci.edu/ml/machine-learningdatabases/housing/housing.data\n",
    "\n",
    "获取网络请求\n",
    "\n",
    " ```\n",
    " import requests\n",
    " \n",
    " file = request.get(url)\n",
    " ```\n",
    "对dat文件(字符串文件)进行处理，转变为python数组\n",
    "\n",
    "涉及的内容\n",
    "\n",
    "- split分割字符串\n",
    "- 将名称数据变为数字\n",
    "- 装入pandas\n",
    " "
   ]
  },
  {
   "cell_type": "code",
   "execution_count": 116,
   "metadata": {},
   "outputs": [
    {
     "name": "stdout",
     "output_type": "stream",
     "text": [
      "3974305\n"
     ]
    }
   ],
   "source": [
    "import requests\n",
    "import os\n",
    "import pandas as pd\n",
    "import csv\n",
    "# 波士顿房价数据集找不不到，用adult数据集代替(来源与UCI)\n",
    "train_url = 'https://archive.ics.uci.edu/ml/machine-learning-databases/adult/adult.data'\n",
    "file = requests.get(train_url)\n",
    "\n",
    "\n",
    "print(len(file.text))"
   ]
  },
  {
   "cell_type": "code",
   "execution_count": 113,
   "metadata": {
    "scrolled": true
   },
   "outputs": [
    {
     "name": "stdout",
     "output_type": "stream",
     "text": [
      "0     object\n",
      "1     object\n",
      "2     object\n",
      "3     object\n",
      "4     object\n",
      "5     object\n",
      "6     object\n",
      "7     object\n",
      "8     object\n",
      "9     object\n",
      "10    object\n",
      "11    object\n",
      "12    object\n",
      "13    object\n",
      "14    object\n",
      "dtype: object\n"
     ]
    }
   ],
   "source": [
    "# 分割data\n",
    "data = []\n",
    "res = file.text.split('\\n')\n",
    "for i in res:\n",
    "    coll = i.split(', ')\n",
    "    if coll:\n",
    "        data.append(coll)\n",
    "\n",
    "\n",
    "# pandas数据\n",
    "data = pd.DataFrame(data)\n",
    "\n",
    "# 类型转换\n",
    "for i in range(data.shape[-1]):\n",
    "    if data[i][0].isnumeric():\n",
    "        pd.to_numeric(data[i])\n",
    "    elif type(data[i][0]) == type(''):\n",
    "        pass\n",
    "    \n",
    "# 维持一个映射（名称--编号）\n",
    "data_types = data.dtypes\n",
    "print(data_types)\n"
   ]
  }
 ],
 "metadata": {
  "kernelspec": {
   "display_name": "Python 3",
   "language": "python",
   "name": "python3"
  },
  "language_info": {
   "codemirror_mode": {
    "name": "ipython",
    "version": 3
   },
   "file_extension": ".py",
   "mimetype": "text/x-python",
   "name": "python",
   "nbconvert_exporter": "python",
   "pygments_lexer": "ipython3",
   "version": "3.7.3"
  }
 },
 "nbformat": 4,
 "nbformat_minor": 2
}

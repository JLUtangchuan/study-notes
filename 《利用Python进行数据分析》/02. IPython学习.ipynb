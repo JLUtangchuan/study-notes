{
 "cells": [
  {
   "cell_type": "markdown",
   "metadata": {},
   "source": [
    "# IPython学习与网络请求\n",
    "---\n",
    "\n",
    "\n",
    "## 1. 网络请求：如何get网络数据\n",
    "\n",
    "   ### JSON数据的获取\n",
    "\n",
    "## 2. IPython操作笔记\n",
    "\n"
   ]
  },
  {
   "cell_type": "markdown",
   "metadata": {},
   "source": [
    "## "
   ]
  },
  {
   "cell_type": "code",
   "execution_count": 1,
   "metadata": {},
   "outputs": [],
   "source": [
    "import json"
   ]
  },
  {
   "cell_type": "code",
   "execution_count": 2,
   "metadata": {},
   "outputs": [
    {
     "data": {
      "text/plain": [
       "['JSONDecodeError',\n",
       " 'JSONDecoder',\n",
       " 'JSONEncoder',\n",
       " '__all__',\n",
       " '__author__',\n",
       " '__builtins__',\n",
       " '__cached__',\n",
       " '__doc__',\n",
       " '__file__',\n",
       " '__loader__',\n",
       " '__name__',\n",
       " '__package__',\n",
       " '__path__',\n",
       " '__spec__',\n",
       " '__version__',\n",
       " '_default_decoder',\n",
       " '_default_encoder',\n",
       " 'codecs',\n",
       " 'decoder',\n",
       " 'detect_encoding',\n",
       " 'dump',\n",
       " 'dumps',\n",
       " 'encoder',\n",
       " 'load',\n",
       " 'loads',\n",
       " 'scanner']"
      ]
     },
     "execution_count": 2,
     "metadata": {},
     "output_type": "execute_result"
    }
   ],
   "source": [
    "dir(json)"
   ]
  },
  {
   "attachments": {
    "image.png": {
     "image/png": "[encoded data removed]"
    }
   },
   "cell_type": "markdown",
   "metadata": {},
   "source": [
    "#### JSON常用操作\n",
    "\n",
    "![image.png](attachment:image.png)\n",
    "\n",
    "> JSON(JavaScript Object Notation) 是一种轻量级的数据交换格式，易于人阅读和编写。\n",
    "\n",
    "|函数|解释|\n",
    "|-|-|\n",
    "json.dumps|将 Python 对象编码成 JSON 字符串\n",
    "json.loads|将已编码的 JSON 字符串解码为 Python 对象\n",
    "json.dump(obj,fp)|将Python数据转化为JSON数据放入fp流中\n",
    "json.load(fp)|从fp中获取JSON数据字符并转换为Python对象\n",
    "\n",
    "\n",
    "* dumps\n",
    "\n",
    "核心参数\n",
    "\n",
    "   - separators\n",
    "\n",
    "```\n",
    "json.dumps(obj, skipkeys=False, ensure_ascii=True, check_circular=True, allow_nan=True, cls=None, indent=None, separators=None, encoding=\"utf-8\", default=None, sort_keys=False, **kw)\n",
    "```\n",
    "\n",
    "* loads\n",
    "\n",
    "**实际上JSON是一个字符串，JSON的一个转换协议，将数据转换成特定类型**\n",
    "\n",
    "```\n",
    "json.loads(s[, encoding[, cls[, object_hook[, parse_float[, parse_int[, parse_constant[, object_pairs_hook[, **kw]]]]]]]])\n",
    "```\n",
    "\n"
   ]
  },
  {
   "cell_type": "code",
   "execution_count": 5,
   "metadata": {},
   "outputs": [
    {
     "name": "stdout",
     "output_type": "stream",
     "text": [
      "{\"name\": \"tangchuan\", \"tel\": 18844116553}\n"
     ]
    }
   ],
   "source": [
    "dic = {'name':'tangchuan','tel':18844116553}\n",
    "js = json.dumps(dic)\n",
    "print(js)"
   ]
  },
  {
   "cell_type": "code",
   "execution_count": 8,
   "metadata": {},
   "outputs": [
    {
     "name": "stdout",
     "output_type": "stream",
     "text": [
      "<class 'dict'>\n"
     ]
    },
    {
     "data": {
      "text/plain": [
       "{'name': 'tangchuan', 'tel': 18844116553}"
      ]
     },
     "execution_count": 8,
     "metadata": {},
     "output_type": "execute_result"
    }
   ],
   "source": [
    "json_data = '{\"name\":\"tangchuan\",\"tel\":18844116553}'\n",
    "jsdic = json.loads(json_data)\n",
    "print(type(jsdic))\n",
    "jsdic"
   ]
  },
  {
   "cell_type": "markdown",
   "metadata": {},
   "source": [
    "### Python文件\n",
    "\n",
    "文件操作：\n",
    "    需要路径的移动、文件的打开、文件的读写、增删改查\n",
    "\n",
    "* 函数解读\n",
    "\n",
    "|函数|解释|参数说明|\n",
    "|-|-|-|\n",
    "|open()|打开一个文件，创建一个file对象| |\n",
    "|-|file_name|是一个包含了你要访问的文件名的字符串值|\n",
    "|-|access_mode|默认r只读rwa +b|\n",
    "|-|buffering|缓冲区大小|\n",
    "|file.closed|返回true如果文件已被关闭，否则返回false|attr|\n",
    "|file.mode|返回被打开文件的访问模式|attr|\n",
    "|file.name|返回文件的名称|attr|\n",
    "|file.write(string)|写入||\n",
    "|-|encoding|'utf-8'|\n",
    "|file.read(count)|默认读到文件结束||\n",
    "|file.readline()|读到换行符||\n",
    "|file.readlines()|返回读到的所有行组成的列表||\n",
    "|file.seek(offset \\[ ,from\\])|改变当前文件的位置。Offset变量表示要移动的字节数。From变量指定开始移动字节的参考位置。|\n",
    "|file.tell()|返回指针位置||"
   ]
  },
  {
   "cell_type": "markdown",
   "metadata": {},
   "source": [
    "### OS文件CUDR\n",
    "\n",
    "---\n",
    "```\n",
    "import os\n",
    "```\n",
    "\n",
    "|功能|函数|解释|\n",
    "|-|-|-|\n",
    "重命名|rename()|os.rename(current_file_name, new_file_name)\n",
    "删除文件|remove()|os.remove(file_name)\n",
    "创建文件夹|mkdir()|os.mkdir(\"newdir\")\n",
    "显示当前工作目录|getcwd()|os.getcwd()\n",
    "删除文件夹|rmdir()|os.rmdir('dirname')\n",
    "改变工作目录|chdir()|os.chdir('dir')\n"
   ]
  },
  {
   "cell_type": "code",
   "execution_count": 9,
   "metadata": {},
   "outputs": [
    {
     "data": {
      "text/plain": [
       "'E:\\\\Study Files\\\\学习\\\\唐川的人工智能笔记\\\\代码与实验\\\\《利用Python进行数据分析》'"
      ]
     },
     "execution_count": 9,
     "metadata": {},
     "output_type": "execute_result"
    }
   ],
   "source": [
    "import os\n",
    "os.getcwd()"
   ]
  },
  {
   "cell_type": "code",
   "execution_count": 25,
   "metadata": {},
   "outputs": [
    {
     "data": {
      "text/plain": [
       "'E:\\\\Study Files\\\\学习\\\\唐川的人工智能笔记\\\\代码与实验\\\\《利用Python进行数据分析》'"
      ]
     },
     "execution_count": 25,
     "metadata": {},
     "output_type": "execute_result"
    }
   ],
   "source": [
    "os.chdir('E:\\\\Study Files\\\\学习\\\\唐川的人工智能笔记\\\\代码与实验\\\\《利用Python进行数据分析》')\n",
    "path = os.path.join('..','..','..','下载资源')\n",
    "# os.chdir(path)\n",
    "os.getcwd()\n",
    "# 显示所有文件\n",
    "\n"
   ]
  },
  {
   "cell_type": "markdown",
   "metadata": {},
   "source": [
    "#### os.walk()\n",
    "\n",
    "语法\n",
    "```\n",
    "os.walk(top[, topdown=True[, onerror=None[, followlinks=False]]])\n",
    "```\n",
    "- top -- 是你所要遍历的目录的地址, 返回的是一个三元组(root,dirs,files)。\n",
    "\n",
    "   - root 所指的是当前正在遍历的这个文件夹的本身的地址\n",
    "   - dirs 是一个 list ，内容是该文件夹中所有的目录的名字(不包括子目录)\n",
    "   - files 同样是 list , 内容是该文件夹中所有的文件(不包括子目录)\n",
    "- topdown --可选，为 True，则优先遍历 top 目录，否则优先遍历 top 的子目录(默认为开启)。如果 topdown 参数为 True，walk 会遍历top文件夹，与top 文件夹中每一个子目录。\n",
    "\n",
    "- onerror -- 可选，需要一个 callable 对象，当 walk 需要异常时，会调用。\n",
    "\n",
    "- followlinks -- 可选，如果为 True，则会遍历目录下的快捷方式(linux 下是软连接 symbolic link )实际所指的目录(默认关闭)，如果为 False，则优先遍历 top 的子目录。\n",
    "\n",
    "\n",
    "```\n",
    "import os\n",
    "for root, dirs, files in os.walk(\".\", topdown=False):\n",
    "    for name in files:\n",
    "        print(os.path.join(root, name))\n",
    "    for name in dirs:\n",
    "        print(os.path.join(root, name))\n",
    "\n",
    "```"
   ]
  },
  {
   "cell_type": "code",
   "execution_count": 29,
   "metadata": {},
   "outputs": [
    {
     "name": "stdout",
     "output_type": "stream",
     "text": [
      ".\\01. 学习规划.ipynb\n",
      ".\\02. IPython学习.ipynb\n",
      ".\\.ipynb_checkpoints\n",
      ".\\.ipynb_checkpoints\\01. 学习规划-checkpoint.ipynb\n",
      ".\\.ipynb_checkpoints\\02. IPython学习-checkpoint.ipynb\n"
     ]
    }
   ],
   "source": [
    "for root, dirs, files in os.walk(\".\", topdown=True):\n",
    "    for name in files:\n",
    "        print(os.path.join(root, name))\n",
    "    for name in dirs:\n",
    "        print(os.path.join(root, name))"
   ]
  },
  {
   "cell_type": "markdown",
   "metadata": {},
   "source": [
    "获取网络请求\n",
    "\n",
    " ```\n",
    " import requests\n",
    " \n",
    " file = request.get(url)\n",
    " ```"
   ]
  },
  {
   "cell_type": "markdown",
   "metadata": {},
   "source": [
    "## IPython操作笔记"
   ]
  },
  {
   "cell_type": "markdown",
   "metadata": {},
   "source": [
    "- tab 自动补全\n",
    "- ? 返回函数或对象的帮助\n",
    "- ?? 显示函数源代码(iff 函数是自己写的)"
   ]
  },
  {
   "cell_type": "code",
   "execution_count": 51,
   "metadata": {},
   "outputs": [],
   "source": [
    "import datetime\n",
    "def fun(a):\n",
    "    return a+a\n",
    "\n",
    "os.mkdir??"
   ]
  },
  {
   "cell_type": "markdown",
   "metadata": {},
   "source": [
    "### 魔术命令\n",
    "\n",
    "> 魔术命令是以%开始的命令\n",
    "\n",
    "|命令|解释|\n",
    "|-|-|\n",
    "%run +相对地址|调用了py文件\n",
    "%lsmagic|输出所有的魔法命令\n",
    "%%time|返回代码块的运行时间\n",
    "%timeit|返回循环代码的运行时间"
   ]
  },
  {
   "cell_type": "code",
   "execution_count": 53,
   "metadata": {},
   "outputs": [
    {
     "data": {
      "application/json": {
       "cell": {
        "!": "OSMagics",
        "HTML": "Other",
        "SVG": "Other",
        "bash": "Other",
        "capture": "ExecutionMagics",
        "cmd": "Other",
        "debug": "ExecutionMagics",
        "file": "Other",
        "html": "DisplayMagics",
        "javascript": "DisplayMagics",
        "js": "DisplayMagics",
        "latex": "DisplayMagics",
        "markdown": "DisplayMagics",
        "perl": "Other",
        "prun": "ExecutionMagics",
        "pypy": "Other",
        "python": "Other",
        "python2": "Other",
        "python3": "Other",
        "ruby": "Other",
        "script": "ScriptMagics",
        "sh": "Other",
        "svg": "DisplayMagics",
        "sx": "OSMagics",
        "system": "OSMagics",
        "time": "ExecutionMagics",
        "timeit": "ExecutionMagics",
        "writefile": "OSMagics"
       },
       "line": {
        "alias": "OSMagics",
        "alias_magic": "BasicMagics",
        "autoawait": "AsyncMagics",
        "autocall": "AutoMagics",
        "automagic": "AutoMagics",
        "autosave": "KernelMagics",
        "bookmark": "OSMagics",
        "cd": "OSMagics",
        "clear": "KernelMagics",
        "cls": "KernelMagics",
        "colors": "BasicMagics",
        "conda": "PackagingMagics",
        "config": "ConfigMagics",
        "connect_info": "KernelMagics",
        "copy": "Other",
        "ddir": "Other",
        "debug": "ExecutionMagics",
        "dhist": "OSMagics",
        "dirs": "OSMagics",
        "doctest_mode": "BasicMagics",
        "echo": "Other",
        "ed": "Other",
        "edit": "KernelMagics",
        "env": "OSMagics",
        "gui": "BasicMagics",
        "hist": "Other",
        "history": "HistoryMagics",
        "killbgscripts": "ScriptMagics",
        "ldir": "Other",
        "less": "KernelMagics",
        "load": "CodeMagics",
        "load_ext": "ExtensionMagics",
        "loadpy": "CodeMagics",
        "logoff": "LoggingMagics",
        "logon": "LoggingMagics",
        "logstart": "LoggingMagics",
        "logstate": "LoggingMagics",
        "logstop": "LoggingMagics",
        "ls": "Other",
        "lsmagic": "BasicMagics",
        "macro": "ExecutionMagics",
        "magic": "BasicMagics",
        "matplotlib": "PylabMagics",
        "mkdir": "Other",
        "more": "KernelMagics",
        "notebook": "BasicMagics",
        "page": "BasicMagics",
        "pastebin": "CodeMagics",
        "pdb": "ExecutionMagics",
        "pdef": "NamespaceMagics",
        "pdoc": "NamespaceMagics",
        "pfile": "NamespaceMagics",
        "pinfo": "NamespaceMagics",
        "pinfo2": "NamespaceMagics",
        "pip": "PackagingMagics",
        "popd": "OSMagics",
        "pprint": "BasicMagics",
        "precision": "BasicMagics",
        "prun": "ExecutionMagics",
        "psearch": "NamespaceMagics",
        "psource": "NamespaceMagics",
        "pushd": "OSMagics",
        "pwd": "OSMagics",
        "pycat": "OSMagics",
        "pylab": "PylabMagics",
        "qtconsole": "KernelMagics",
        "quickref": "BasicMagics",
        "recall": "HistoryMagics",
        "rehashx": "OSMagics",
        "reload_ext": "ExtensionMagics",
        "ren": "Other",
        "rep": "Other",
        "rerun": "HistoryMagics",
        "reset": "NamespaceMagics",
        "reset_selective": "NamespaceMagics",
        "rmdir": "Other",
        "run": "ExecutionMagics",
        "save": "CodeMagics",
        "sc": "OSMagics",
        "set_env": "OSMagics",
        "store": "StoreMagics",
        "sx": "OSMagics",
        "system": "OSMagics",
        "tb": "ExecutionMagics",
        "time": "ExecutionMagics",
        "timeit": "ExecutionMagics",
        "unalias": "OSMagics",
        "unload_ext": "ExtensionMagics",
        "who": "NamespaceMagics",
        "who_ls": "NamespaceMagics",
        "whos": "NamespaceMagics",
        "xdel": "NamespaceMagics",
        "xmode": "BasicMagics"
       }
      },
      "text/plain": [
       "Available line magics:\n",
       "%alias  %alias_magic  %autoawait  %autocall  %automagic  %autosave  %bookmark  %cd  %clear  %cls  %colors  %conda  %config  %connect_info  %copy  %ddir  %debug  %dhist  %dirs  %doctest_mode  %echo  %ed  %edit  %env  %gui  %hist  %history  %killbgscripts  %ldir  %less  %load  %load_ext  %loadpy  %logoff  %logon  %logstart  %logstate  %logstop  %ls  %lsmagic  %macro  %magic  %matplotlib  %mkdir  %more  %notebook  %page  %pastebin  %pdb  %pdef  %pdoc  %pfile  %pinfo  %pinfo2  %pip  %popd  %pprint  %precision  %prun  %psearch  %psource  %pushd  %pwd  %pycat  %pylab  %qtconsole  %quickref  %recall  %rehashx  %reload_ext  %ren  %rep  %rerun  %reset  %reset_selective  %rmdir  %run  %save  %sc  %set_env  %store  %sx  %system  %tb  %time  %timeit  %unalias  %unload_ext  %who  %who_ls  %whos  %xdel  %xmode\n",
       "\n",
       "Available cell magics:\n",
       "%%!  %%HTML  %%SVG  %%bash  %%capture  %%cmd  %%debug  %%file  %%html  %%javascript  %%js  %%latex  %%markdown  %%perl  %%prun  %%pypy  %%python  %%python2  %%python3  %%ruby  %%script  %%sh  %%svg  %%sx  %%system  %%time  %%timeit  %%writefile\n",
       "\n",
       "Automagic is ON, % prefix IS NOT needed for line magics."
      ]
     },
     "execution_count": 53,
     "metadata": {},
     "output_type": "execute_result"
    }
   ],
   "source": [
    "%lsmagic"
   ]
  },
  {
   "cell_type": "code",
   "execution_count": 97,
   "metadata": {},
   "outputs": [
    {
     "name": "stdout",
     "output_type": "stream",
     "text": [
      "Wall time: 663 ms\n"
     ]
    }
   ],
   "source": [
    "%%time\n",
    "import math\n",
    "for i in range(100):\n",
    "    [math.cos(x**5*math.log10(1+x)) for x in range(10000)]\n",
    "    [x**5 for x in range(100)]"
   ]
  }
 ],
 "metadata": {
  "kernelspec": {
   "display_name": "Python 3",
   "language": "python",
   "name": "python3"
  },
  "language_info": {
   "codemirror_mode": {
    "name": "ipython",
    "version": 3
   },
   "file_extension": ".py",
   "mimetype": "text/x-python",
   "name": "python",
   "nbconvert_exporter": "python",
   "pygments_lexer": "ipython3",
   "version": "3.7.3"
  }
 },
 "nbformat": 4,
 "nbformat_minor": 2
}

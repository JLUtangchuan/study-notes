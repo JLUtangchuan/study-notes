{
 "cells": [
  {
   "cell_type": "markdown",
   "metadata": {},
   "source": [
    "# 01. 《老鼠书》\n",
    "---\n",
    "### 规划\n",
    "---\n",
    "- 学习目标\n",
    "- 学习知识点\n",
    "- 本书配合使用资料\n",
    "\n",
    "---\n",
    "\n",
    "1. 学习目标\n",
    "\n",
    "> 通过学习这些数据分析的常用库，1)学会对结构化数据进行数据预处理、2)可视化数据、3)更加熟练、规范地使用Python\n",
    "\n",
    "2. 学习知识点\n",
    "   1. url与request网络请求\n",
    "   2. IPython\n",
    "   3. Numpy高级用法\n",
    "   4. pandas的更多数据操作功能\n",
    "   5. 数据加载\n",
    "   6. 结构化数据预处理\n",
    "   7. 数据可视化\n",
    "   8. 数据提取\n",
    "   9. 时间模块\n",
    "   \n",
    "3. 本书配合使用资料\n",
    "    1. 《老鼠书》\n",
    "    2. Python数据科学速查表\n",
    "    3. 实战项目复现\n",
    "       - [kaggle网络欺诈](https://www.cnblogs.com/bonelee/p/9087882.html)"
   ]
  }
 ],
 "metadata": {
  "kernelspec": {
   "display_name": "Python 3",
   "language": "python",
   "name": "python3"
  },
  "language_info": {
   "codemirror_mode": {
    "name": "ipython",
    "version": 3
   },
   "file_extension": ".py",
   "mimetype": "text/x-python",
   "name": "python",
   "nbconvert_exporter": "python",
   "pygments_lexer": "ipython3",
   "version": "3.7.3"
  }
 },
 "nbformat": 4,
 "nbformat_minor": 2
}

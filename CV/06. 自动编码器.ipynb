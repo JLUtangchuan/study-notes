{
 "cells": [
  {
   "cell_type": "markdown",
   "metadata": {},
   "source": [
    "# 自编码器"
   ]
  },
  {
   "cell_type": "markdown",
   "metadata": {},
   "source": [
    "### autoencoder\n",
    "> 做一个自编码器，提取新的特征"
   ]
  },
  {
   "cell_type": "code",
   "execution_count": 1,
   "metadata": {},
   "outputs": [],
   "source": [
    "import tensorflow as tf\n",
    "from tensorflow.keras import Sequential,layers,optimizers,losses,metrics,datasets,models\n",
    "import datetime\n",
    "import numpy as np"
   ]
  },
  {
   "cell_type": "code",
   "execution_count": 2,
   "metadata": {},
   "outputs": [],
   "source": [
    "mnist = datasets.mnist.load_data()"
   ]
  },
  {
   "cell_type": "code",
   "execution_count": 3,
   "metadata": {},
   "outputs": [],
   "source": [
    "# 数据预处理\n",
    "batch_size = 128\n",
    "def pre_process(x,y):\n",
    "    x = tf.cast(x,dtype=tf.float32)/255.\n",
    "    y = tf.cast(y,dtype=tf.int32)\n",
    "    return x,y\n",
    "train_data,test_data = mnist\n",
    "db_train = tf.data.Dataset.from_tensor_slices(train_data)\n",
    "db_train = db_train.map(pre_process).shuffle(3000).batch(batch_size)"
   ]
  },
  {
   "cell_type": "code",
   "execution_count": 24,
   "metadata": {},
   "outputs": [],
   "source": [
    "#搭建网络\n",
    "# class AutoEncoder(models.Model):\n",
    "#     def __init__(self):\n",
    "#         super(AutoEncoder,self).__init__()\n",
    "#         # autoencoder\n",
    "encoder = Sequential([\n",
    "    layers.Flatten(),\n",
    "    layers.Dense(128,activation=tf.nn.relu),\n",
    "    layers.Dense(64,activation=tf.nn.relu),\n",
    "    layers.Dense(32,activation=tf.nn.relu),\n",
    "    layers.Dense(16)\n",
    "])\n",
    "\n",
    "decoder = Sequential([\n",
    "    layers.Dense(32,activation=tf.nn.relu),\n",
    "    layers.Dense(64,activation=tf.nn.relu),\n",
    "    layers.Dense(128,activation=tf.nn.relu),\n",
    "    layers.Dense(784,activation=tf.nn.sigmoid),\n",
    "    layers.Reshape((28,28))\n",
    "])\n",
    "\n",
    "encoder.build(input_shape = (None,28,28))\n",
    "decoder.build(input_shape = (None,16))\n"
   ]
  },
  {
   "cell_type": "code",
   "execution_count": 25,
   "metadata": {},
   "outputs": [
    {
     "name": "stdout",
     "output_type": "stream",
     "text": [
      "Model: \"sequential_2\"\n",
      "_________________________________________________________________\n",
      "Layer (type)                 Output Shape              Param #   \n",
      "=================================================================\n",
      "flatten_1 (Flatten)          multiple                  0         \n",
      "_________________________________________________________________\n",
      "dense_8 (Dense)              multiple                  100480    \n",
      "_________________________________________________________________\n",
      "dense_9 (Dense)              multiple                  8256      \n",
      "_________________________________________________________________\n",
      "dense_10 (Dense)             multiple                  2080      \n",
      "_________________________________________________________________\n",
      "dense_11 (Dense)             multiple                  528       \n",
      "=================================================================\n",
      "Total params: 111,344\n",
      "Trainable params: 111,344\n",
      "Non-trainable params: 0\n",
      "_________________________________________________________________\n"
     ]
    }
   ],
   "source": [
    "encoder.summary()"
   ]
  },
  {
   "cell_type": "code",
   "execution_count": 26,
   "metadata": {},
   "outputs": [
    {
     "name": "stdout",
     "output_type": "stream",
     "text": [
      "Model: \"sequential_3\"\n",
      "_________________________________________________________________\n",
      "Layer (type)                 Output Shape              Param #   \n",
      "=================================================================\n",
      "dense_12 (Dense)             multiple                  544       \n",
      "_________________________________________________________________\n",
      "dense_13 (Dense)             multiple                  2112      \n",
      "_________________________________________________________________\n",
      "dense_14 (Dense)             multiple                  8320      \n",
      "_________________________________________________________________\n",
      "dense_15 (Dense)             multiple                  101136    \n",
      "_________________________________________________________________\n",
      "reshape_1 (Reshape)          multiple                  0         \n",
      "=================================================================\n",
      "Total params: 112,112\n",
      "Trainable params: 112,112\n",
      "Non-trainable params: 0\n",
      "_________________________________________________________________\n"
     ]
    }
   ],
   "source": [
    "decoder.summary()"
   ]
  },
  {
   "cell_type": "code",
   "execution_count": 77,
   "metadata": {},
   "outputs": [
    {
     "name": "stdout",
     "output_type": "stream",
     "text": [
      "step 0 : loss = 0.0212248545140028 365.33642347058185 pic/s \n",
      "step 200 : loss = 0.02092049829661846 6767.831650187702 pic/s \n",
      "step 400 : loss = 0.020426994189620018 6756.400105568751 pic/s \n",
      "step 0 : loss = 0.020251041278243065 6754.61741424802 pic/s \n",
      "step 200 : loss = 0.019817622378468513 6754.973877249459 pic/s \n",
      "step 400 : loss = 0.01943523809313774 6751.767064036291 pic/s \n",
      "step 0 : loss = 0.019183918833732605 5822.416302765648 pic/s \n",
      "step 200 : loss = 0.018584944307804108 6754.973877249459 pic/s \n",
      "step 400 : loss = 0.01835327036678791 6744.6517019707035 pic/s \n",
      "step 0 : loss = 0.01808341220021248 7128.9334447229185 pic/s \n",
      "step 200 : loss = 0.017533352598547935 7131.316507883447 pic/s \n",
      "step 400 : loss = 0.017469586804509163 6740.744641634631 pic/s \n",
      "step 0 : loss = 0.017444919794797897 6767.831650187702 pic/s \n",
      "step 200 : loss = 0.016895994544029236 7114.273010226767 pic/s \n",
      "step 400 : loss = 0.01688549295067787 6754.61741424802 pic/s \n"
     ]
    }
   ],
   "source": [
    "#训练\n",
    "max_iter = 5\n",
    "optimizer = optimizers.Adam(learning_rate=0.001)\n",
    "for iter_step in range(max_iter):\n",
    "    for i,(ix,iy) in enumerate(db_train):\n",
    "        begin_time = datetime.datetime.now()\n",
    "        with tf.GradientTape() as tape:\n",
    "            code = encoder(ix)\n",
    "            decode = decoder(code)\n",
    "            loss = tf.reduce_mean(tf.pow(ix-decode,2))\n",
    "        grads = tape.gradient(loss,encoder.trainable_variables + decoder.trainable_variables)\n",
    "        optimizer.apply_gradients(zip(grads,encoder.trainable_variables + decoder.trainable_variables))\n",
    "        end_time = datetime.datetime.now()\n",
    "        if i%200==0:\n",
    "            print('step {0} : loss = {1} {2} pic/s '.format(i,float(loss),batch_size/(end_time-begin_time).total_seconds()))"
   ]
  },
  {
   "cell_type": "code",
   "execution_count": 56,
   "metadata": {},
   "outputs": [
    {
     "name": "stdout",
     "output_type": "stream",
     "text": [
      "(1, 28, 28)\n"
     ]
    }
   ],
   "source": [
    "# 数据可视化\n",
    "# feed an image, and then compare the origin image and decode image\n",
    "img = next(iter(db_train))\n",
    "len(img[0])\n",
    "rnd = tf.random.shuffle(range(64))[0]\n",
    "img = img[0][rnd]\n",
    "origin_img = img*255\n",
    "img = img[np.newaxis,:]\n",
    "feed = tf.convert_to_tensor(img)\n",
    "print(feed.shape)\n",
    "# origin_img\n"
   ]
  },
  {
   "cell_type": "code",
   "execution_count": 57,
   "metadata": {},
   "outputs": [],
   "source": [
    "# decode\n",
    "\n",
    "# features = encoder(tf.zeros((1,28,28)))\n",
    "features = encoder(feed)\n",
    "\n",
    "decode = decoder(features)"
   ]
  },
  {
   "cell_type": "code",
   "execution_count": 58,
   "metadata": {},
   "outputs": [],
   "source": [
    "dec_img = decode*255\n",
    "dec_img = tf.reshape(dec_img,(28,28)) "
   ]
  },
  {
   "cell_type": "code",
   "execution_count": 59,
   "metadata": {},
   "outputs": [
    {
     "data": {
      "text/plain": [
       "<matplotlib.image.AxesImage at 0x26d05169240>"
      ]
     },
     "execution_count": 59,
     "metadata": {},
     "output_type": "execute_result"
    },
    {
     "data": {
      "image/png": "[encoded data removed]",
      "text/plain": [
       "<Figure size 432x288 with 1 Axes>"
      ]
     },
     "metadata": {
      "needs_background": "light"
     },
     "output_type": "display_data"
    },
    {
     "data": {
      "image/png": "[encoded data removed]",
      "text/plain": [
       "<Figure size 432x288 with 1 Axes>"
      ]
     },
     "metadata": {
      "needs_background": "light"
     },
     "output_type": "display_data"
    }
   ],
   "source": [
    "from matplotlib import pyplot as plt\n",
    "plt.imshow(dec_img)\n",
    "plt.figure()\n",
    "plt.imshow(origin_img)"
   ]
  },
  {
   "cell_type": "code",
   "execution_count": 82,
   "metadata": {},
   "outputs": [
    {
     "name": "stdout",
     "output_type": "stream",
     "text": [
      "tf.Tensor(4, shape=(), dtype=int32)\n",
      "tf.Tensor(6, shape=(), dtype=int32)\n"
     ]
    },
    {
     "data": {
      "image/png": "[encoded data removed]",
      "text/plain": [
       "<Figure size 432x288 with 1 Axes>"
      ]
     },
     "metadata": {
      "needs_background": "light"
     },
     "output_type": "display_data"
    },
    {
     "data": {
      "image/png": "[encoded data removed]",
      "text/plain": [
       "<Figure size 432x288 with 1 Axes>"
      ]
     },
     "metadata": {
      "needs_background": "light"
     },
     "output_type": "display_data"
    },
    {
     "data": {
      "image/png": "[encoded data removed]",
      "text/plain": [
       "<Figure size 432x288 with 1 Axes>"
      ]
     },
     "metadata": {
      "needs_background": "light"
     },
     "output_type": "display_data"
    },
    {
     "data": {
      "image/png": "[encoded data removed]",
      "text/plain": [
       "<Figure size 432x288 with 1 Axes>"
      ]
     },
     "metadata": {
      "needs_background": "light"
     },
     "output_type": "display_data"
    },
    {
     "data": {
      "image/png": "[encoded data removed]",
      "text/plain": [
       "<Figure size 432x288 with 1 Axes>"
      ]
     },
     "metadata": {
      "needs_background": "light"
     },
     "output_type": "display_data"
    },
    {
     "data": {
      "image/png": "[encoded data removed]",
      "text/plain": [
       "<Figure size 432x288 with 1 Axes>"
      ]
     },
     "metadata": {
      "needs_background": "light"
     },
     "output_type": "display_data"
    },
    {
     "data": {
      "image/png": "[encoded data removed]",
      "text/plain": [
       "<Figure size 432x288 with 1 Axes>"
      ]
     },
     "metadata": {
      "needs_background": "light"
     },
     "output_type": "display_data"
    },
    {
     "data": {
      "image/png": "[encoded data removed]",
      "text/plain": [
       "<Figure size 432x288 with 1 Axes>"
      ]
     },
     "metadata": {
      "needs_background": "light"
     },
     "output_type": "display_data"
    },
    {
     "data": {
      "image/png": "[encoded data removed]",
      "text/plain": [
       "<Figure size 432x288 with 1 Axes>"
      ]
     },
     "metadata": {
      "needs_background": "light"
     },
     "output_type": "display_data"
    },
    {
     "data": {
      "image/png": "[encoded data removed]",
      "text/plain": [
       "<Figure size 432x288 with 1 Axes>"
      ]
     },
     "metadata": {
      "needs_background": "light"
     },
     "output_type": "display_data"
    },
    {
     "data": {
      "image/png": "[encoded data removed]",
      "text/plain": [
       "<Figure size 432x288 with 1 Axes>"
      ]
     },
     "metadata": {
      "needs_background": "light"
     },
     "output_type": "display_data"
    },
    {
     "data": {
      "image/png": "[encoded data removed]",
      "text/plain": [
       "<Figure size 432x288 with 1 Axes>"
      ]
     },
     "metadata": {
      "needs_background": "light"
     },
     "output_type": "display_data"
    },
    {
     "data": {
      "image/png": "[encoded data removed]",
      "text/plain": [
       "<Figure size 432x288 with 1 Axes>"
      ]
     },
     "metadata": {
      "needs_background": "light"
     },
     "output_type": "display_data"
    }
   ],
   "source": [
    "# 转化 从n到m\n",
    "def showimg(data):\n",
    "    data = data*255\n",
    "    data = tf.reshape(data,(28,28)) \n",
    "    plt.figure()\n",
    "    plt.imshow(data)\n",
    "\n",
    "imgs = next(iter(db_train))\n",
    "m,n = tf.random.shuffle(range(64))[:2]\n",
    "print(imgs[1][m])\n",
    "print(imgs[1][n])\n",
    "m_features = encoder(imgs[0][m][np.newaxis,:]) # (1,16)\n",
    "n_features = encoder(imgs[0][n][np.newaxis,:]) # (1,16)\n",
    "\n",
    "slices = 10\n",
    "showimg(imgs[0][n])\n",
    "for i in range(slices+1):\n",
    "    code = (i/slices)*m_features + (1-i/slices)*n_features\n",
    "    data = decoder(code)\n",
    "    showimg(data)\n",
    "showimg(imgs[0][m])"
   ]
  },
  {
   "cell_type": "code",
   "execution_count": null,
   "metadata": {},
   "outputs": [],
   "source": []
  }
 ],
 "metadata": {
  "kernelspec": {
   "display_name": "Python 3",
   "language": "python",
   "name": "python3"
  },
  "language_info": {
   "codemirror_mode": {
    "name": "ipython",
    "version": 3
   },
   "file_extension": ".py",
   "mimetype": "text/x-python",
   "name": "python",
   "nbconvert_exporter": "python",
   "pygments_lexer": "ipython3",
   "version": "3.7.3"
  }
 },
 "nbformat": 4,
 "nbformat_minor": 2
}

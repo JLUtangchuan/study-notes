{
 "cells": [
  {
   "attachments": {
    "image.png": {
     "image/png": "[encoded data removed]"
    }
   },
   "cell_type": "markdown",
   "metadata": {},
   "source": [
    "# Tensorflow 自带数据集\n",
    "![image.png](attachment:image.png)\n",
    "\n",
    "1. MNIST\n",
    "2. CIFAR10\n",
    "3. "
   ]
  },
  {
   "cell_type": "code",
   "execution_count": 1,
   "metadata": {},
   "outputs": [],
   "source": [
    "import tensorflow as tf\n",
    "from tensorflow import keras\n",
    "\n",
    "(x,y),(t_x,t_y) = keras.datasets.mnist.load_data()\n"
   ]
  },
  {
   "cell_type": "code",
   "execution_count": 2,
   "metadata": {},
   "outputs": [
    {
     "data": {
      "text/plain": [
       "numpy.ndarray"
      ]
     },
     "execution_count": 2,
     "metadata": {},
     "output_type": "execute_result"
    }
   ],
   "source": [
    "x.shape\n",
    "y.shape\n",
    "type(x)"
   ]
  },
  {
   "cell_type": "code",
   "execution_count": 3,
   "metadata": {},
   "outputs": [
    {
     "data": {
      "text/plain": [
       "<tf.Tensor: id=8, shape=(2, 10), dtype=float32, numpy=\n",
       "array([[0., 0., 0., 0., 0., 1., 0., 0., 0., 0.],\n",
       "       [1., 0., 0., 0., 0., 0., 0., 0., 0., 0.]], dtype=float32)>"
      ]
     },
     "execution_count": 3,
     "metadata": {},
     "output_type": "execute_result"
    }
   ],
   "source": [
    "y_onehot = tf.one_hot(y,depth=10)\n",
    "y_onehot[:2]"
   ]
  },
  {
   "cell_type": "code",
   "execution_count": 4,
   "metadata": {},
   "outputs": [],
   "source": [
    "\n",
    "(x,y),(t_x,t_y) = keras.datasets.cifar10.load_data()"
   ]
  },
  {
   "cell_type": "markdown",
   "metadata": {},
   "source": [
    "### 数据集读取入tensorflow的对象中\n",
    "---\n",
    "**以往的做法**\n",
    "\n",
    "1. 使用placeholder，然后使用feed_dict将数据feed进placeholder进行使用；灵活，可分batch，也可整个放入；但是效率低下\n",
    "2. QueueRunner，将磁盘中的数据分批次读入模型中使用；改进了效率，但不够直观，不方便调试，操作复杂\n",
    "3. ***tf.data.Dataset模块，tf1.x引入的新方法；方便，支持多线程，效率有提高***\n",
    "\n",
    "> TFRecord:将磁盘碎片化的图片等数据集转换为一个二进制的TFReord文件，加速文件的导入\n",
    "\n",
    "***tf.data.Dataset使用说明***\n",
    "\n",
    ">A Dataset can be used to represent an input pipeline as a collection of elements and a \"logical plan\" of transformations that act on those elements.(Dataset是一个输入过程的流水线以及其中的操作集合)\n",
    "\n",
    "###### Methods\n",
    "\n",
    "- __iter__ : 创建一个枚举dataset中元素的迭代器\n",
    "- batch(batch_size,drop_remainder=False) : 第二个参数表示如果batch_size不能整除，多出的部分是否保留\n",
    "- concatenate(self,other_dataset) : 合并两个Dataset\n",
    "- filter(self,func) : 选择指定的data\n",
    "- from_generator \n",
    "   - python Generator > 生成器的作用，如果有一个数据集数据量很大，我们通常无法将其整个用一个list存入内存中，使用生成器使得其不用整个放入内存，当需要迭代使用时再依次放入内存\n",
    "   \n",
    "- from_tensor_slices(tensor)\n",
    "   - from_tensor_slices用于创建dataset,其元素是给定张量的切片的元素\n",
    "  - 嵌套元素from_tensor_slices必须在第0级具有相同的维度(from_tensors不需要)\n",
    "  - 注意：当data非tf.tensor类型时，会先转化为tensor，这可能需要很大的代价\n",
    "```\n",
    "@staticmethod\n",
    "from_tensor_slices(tensors)\n",
    "\n",
    "```\n",
    "> Creates a Dataset whose elements are slices of the given tensors.\n",
    "\n",
    "\n",
    "\n",
    "1.构建数据集 tf.data.Dataset.from_tensor_slices()\n"
   ]
  },
  {
   "cell_type": "code",
   "execution_count": 5,
   "metadata": {},
   "outputs": [
    {
     "data": {
      "text/plain": [
       "(50000, 32, 32, 3)"
      ]
     },
     "execution_count": 5,
     "metadata": {},
     "output_type": "execute_result"
    }
   ],
   "source": [
    "x.shape  # 50000,32,32,3\n",
    "# tf.data.Dataset.from_tensor_slices(x_t)"
   ]
  },
  {
   "cell_type": "code",
   "execution_count": 6,
   "metadata": {},
   "outputs": [
    {
     "data": {
      "text/plain": [
       "{0, 1, 2, 3, 4, 5, 6, 7, 8, 9}"
      ]
     },
     "execution_count": 6,
     "metadata": {},
     "output_type": "execute_result"
    }
   ],
   "source": [
    "y.shape # 50000,1\n",
    "y = y.reshape(-1)\n",
    "y.tolist()\n",
    "set(y)"
   ]
  },
  {
   "cell_type": "code",
   "execution_count": 7,
   "metadata": {},
   "outputs": [],
   "source": [
    "# 返回 tf.dataset对象  支持迭代的集合对象\n",
    "y_one_hot = tf.one_hot(y,depth=10)\n",
    "db = tf.data.Dataset.from_tensor_slices((x,y_one_hot))"
   ]
  },
  {
   "cell_type": "code",
   "execution_count": 8,
   "metadata": {},
   "outputs": [],
   "source": [
    "# shuffle\n",
    "\n",
    "db = db.shuffle(buffer_size=100)"
   ]
  },
  {
   "cell_type": "code",
   "execution_count": 9,
   "metadata": {},
   "outputs": [
    {
     "data": {
      "text/plain": [
       "<MapDataset shapes: ((32, 32, 3), (10,)), types: (tf.uint8, tf.float32)>"
      ]
     },
     "execution_count": 9,
     "metadata": {},
     "output_type": "execute_result"
    }
   ],
   "source": [
    "# map  和标准map的类似\n",
    "def func(i_x,i_y):\n",
    "    return i_x,i_y\n",
    "\n",
    "db.map(func)"
   ]
  },
  {
   "cell_type": "code",
   "execution_count": 12,
   "metadata": {},
   "outputs": [
    {
     "data": {
      "text/plain": [
       "50000"
      ]
     },
     "execution_count": 12,
     "metadata": {},
     "output_type": "execute_result"
    }
   ],
   "source": [
    "# batch\n",
    "batch_size = 10\n",
    "db.batch(batch_size)\n",
    "\n",
    "db_iter = iter(db)\n",
    "# len(db_iter)\n",
    "\n",
    "db_4 = db.repeat(4)\n",
    "# for i in db_iter:\n",
    "    \n",
    "len(list(iter(db)))\n"
   ]
  },
  {
   "cell_type": "markdown",
   "metadata": {},
   "source": [
    "[Tensorflow datasets.shuffle repeat batch方法](https://blog.csdn.net/qq_16234613/article/details/81703228)\n",
    "\n"
   ]
  },
  {
   "cell_type": "code",
   "execution_count": 11,
   "metadata": {},
   "outputs": [],
   "source": [
    "import tensorflow as tf\n",
    "from tensorflow.keras import datasets\n",
    "from tensorflow.data import Dataset"
   ]
  },
  {
   "cell_type": "code",
   "execution_count": 42,
   "metadata": {},
   "outputs": [],
   "source": [
    "(x,y),(x_t,y_t)  = datasets.fashion_mnist.load_data()"
   ]
  },
  {
   "cell_type": "code",
   "execution_count": 43,
   "metadata": {},
   "outputs": [
    {
     "data": {
      "text/plain": [
       "(60000, 28, 28)"
      ]
     },
     "execution_count": 43,
     "metadata": {},
     "output_type": "execute_result"
    }
   ],
   "source": [
    "x.shape"
   ]
  },
  {
   "cell_type": "code",
   "execution_count": 10,
   "metadata": {},
   "outputs": [
    {
     "data": {
      "text/plain": [
       "(60000,)"
      ]
     },
     "execution_count": 10,
     "metadata": {},
     "output_type": "execute_result"
    }
   ],
   "source": [
    "y.shape"
   ]
  },
  {
   "cell_type": "code",
   "execution_count": 63,
   "metadata": {},
   "outputs": [
    {
     "data": {
      "text/plain": [
       "(300, 28, 28)"
      ]
     },
     "execution_count": 63,
     "metadata": {},
     "output_type": "execute_result"
    }
   ],
   "source": [
    "x = x[:300,...]\n",
    "y = y[:300,...]\n",
    "x.shape"
   ]
  },
  {
   "cell_type": "code",
   "execution_count": 85,
   "metadata": {},
   "outputs": [],
   "source": [
    "data = Dataset.from_tensor_slices((x,y))  # 构成一个(x,y)的tuple"
   ]
  },
  {
   "cell_type": "code",
   "execution_count": 86,
   "metadata": {},
   "outputs": [],
   "source": [
    "data = data.shuffle(2)\n",
    "# data = data.batch(20)\n",
    "# data = data.repeat(3)"
   ]
  },
  {
   "attachments": {
    "image.png": {
     "image/png": "[encoded data removed]"
    }
   },
   "cell_type": "markdown",
   "metadata": {},
   "source": [
    "##### shuffle中batch_size的作用\n",
    "---\n",
    "> 参数buffer_size值越大，意味着数据混乱程度也越大。具体原理如下所示。\n",
    "假设buffer_size = 9，也即先从 dataset 数据集中取出 9 个数据“拖”到 buffer 区域中，后续训练数据的每一个样本将从 buffer 区域中获取。\n",
    "\n",
    "![image.png](attachment:image.png)"
   ]
  },
  {
   "cell_type": "code",
   "execution_count": 88,
   "metadata": {},
   "outputs": [],
   "source": [
    "for index,i in enumerate(iter(data)):\n",
    "#     print(index,i[1])\n",
    "    pass\n"
   ]
  },
  {
   "cell_type": "markdown",
   "metadata": {},
   "source": [
    "#### tf.assign_sub 函数解释\n",
    "---\n",
    "\n",
    "如果遇到一个常量需要更新值（如 w = w - dw）时，不能直接使用 w = w - dw来执行更新，因为这种更新是将变量名w重新赋予一个新对象，此时的w和之前的w不是同一个对象"
   ]
  }
 ],
 "metadata": {
  "kernelspec": {
   "display_name": "Python 3",
   "language": "python",
   "name": "python3"
  },
  "language_info": {
   "codemirror_mode": {
    "name": "ipython",
    "version": 3
   },
   "file_extension": ".py",
   "mimetype": "text/x-python",
   "name": "python",
   "nbconvert_exporter": "python",
   "pygments_lexer": "ipython3",
   "version": "3.7.3"
  }
 },
 "nbformat": 4,
 "nbformat_minor": 2
}

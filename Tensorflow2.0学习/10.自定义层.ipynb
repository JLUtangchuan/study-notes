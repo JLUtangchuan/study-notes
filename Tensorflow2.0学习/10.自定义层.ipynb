{
 "cells": [
  {
   "cell_type": "markdown",
   "metadata": {},
   "source": [
    "# Tensorflow自定义层\n",
    "\n",
    "自定义的层需要继承自keras.layers.Layer\n",
    "自定义网络继承自 keras.Model\n",
    "\n",
    "需要实现的方法\n",
    "\n",
    "- __init__\n",
    "- call"
   ]
  },
  {
   "cell_type": "code",
   "execution_count": 7,
   "metadata": {},
   "outputs": [],
   "source": [
    "import tensorflow as tf\n",
    "from tensorflow import keras\n",
    "from tensorflow.keras import Sequential,layers,metrics,losses,optimizers,datasets"
   ]
  },
  {
   "cell_type": "code",
   "execution_count": 8,
   "metadata": {},
   "outputs": [],
   "source": [
    "# 导入数据\n",
    "(x,y),(x_test,y_test) = datasets.fashion_mnist.load_data()\n",
    "batch_size = 100\n",
    "def pre_process(x,y):\n",
    "    x = tf.reshape(x,[28*28])\n",
    "    x = tf.cast(x,dtype=tf.float32)/255.0\n",
    "    y = tf.cast(y,dtype=tf.int32)\n",
    "    return x,y\n",
    "\n",
    "\n",
    "db = tf.data.Dataset.from_tensor_slices((x,y))\n",
    "db = db.map(pre_process)\n",
    "db = db.shuffle(5000).batch(batch_size)\n",
    "\n",
    "db_test = tf.data.Dataset.from_tensor_slices((x_test,y_test))\n",
    "db_test = db_test.map(pre_process)\n",
    "db_test = db_test.shuffle(5000).batch(batch_size)"
   ]
  },
  {
   "cell_type": "code",
   "execution_count": 15,
   "metadata": {},
   "outputs": [],
   "source": [
    " # 自定义层\n",
    "class MyDense(layers.Layer):\n",
    "    def __init__(self,inp_dim,outp_dim):\n",
    "        super(MyDense,self).__init__()\n",
    "        self.kernel = self.add_variable('w',[inp_dim,outp_dim])\n",
    "        self.bias = self.add_variable('b',[outp_dim])\n",
    "        \n",
    "    def call(self,inputs , training = None):\n",
    "        out = inputs @ self.kernel + self.bias\n",
    "        return out\n",
    "    \n",
    "# 自定义网络\n",
    "class MyModel(keras.Model):\n",
    "    def __init__(self):\n",
    "        super(MyModel,self).__init__()\n",
    "        self.fc1 = MyDense(28*28,256)\n",
    "        self.fc2 = MyDense(256,128)\n",
    "        self.fc3 = MyDense(128,10)\n",
    "        \n",
    "    def call(self,inputs,training = None):\n",
    "        x = self.fc1(inputs)\n",
    "        x = tf.nn.sigmoid(x)\n",
    "        x = self.fc2(x)\n",
    "        x = tf.nn.sigmoid(x)\n",
    "        x = self.fc3(x)\n",
    "        x = tf.nn.softmax(x)\n",
    "        return x\n",
    "    \n",
    "\n",
    "        "
   ]
  },
  {
   "cell_type": "code",
   "execution_count": 16,
   "metadata": {},
   "outputs": [],
   "source": [
    "network = MyModel()"
   ]
  },
  {
   "cell_type": "code",
   "execution_count": 17,
   "metadata": {},
   "outputs": [],
   "source": [
    "network.compile(optimizer=optimizers.SGD(lr = 0.001),\n",
    "                loss = 'sparse_categorical_crossentropy',\n",
    "                metrics=['accuracy'])"
   ]
  },
  {
   "cell_type": "code",
   "execution_count": 18,
   "metadata": {},
   "outputs": [
    {
     "name": "stdout",
     "output_type": "stream",
     "text": [
      "Epoch 1/5\n",
      "600/600 [==============================] - 3s 5ms/step - loss: 2.3387 - accuracy: 0.0902\n",
      "Epoch 2/5\n",
      "600/600 [==============================] - 3s 5ms/step - loss: 2.2838 - accuracy: 0.1483 - val_loss: 2.2759 - val_accuracy: 0.2851\n",
      "Epoch 3/5\n",
      "600/600 [==============================] - 3s 4ms/step - loss: 2.2675 - accuracy: 0.3431\n",
      "Epoch 4/5\n",
      "600/600 [==============================] - 3s 5ms/step - loss: 2.2514 - accuracy: 0.4361 - val_loss: 2.2438 - val_accuracy: 0.5093\n",
      "Epoch 5/5\n",
      "600/600 [==============================] - 3s 4ms/step - loss: 2.2350 - accuracy: 0.5058\n"
     ]
    },
    {
     "data": {
      "text/plain": [
       "<tensorflow.python.keras.callbacks.History at 0x22082f9b438>"
      ]
     },
     "execution_count": 18,
     "metadata": {},
     "output_type": "execute_result"
    }
   ],
   "source": [
    "network.fit(db,epochs=5,validation_data=db_test,validation_freq=2)"
   ]
  },
  {
   "cell_type": "code",
   "execution_count": 19,
   "metadata": {},
   "outputs": [
    {
     "name": "stdout",
     "output_type": "stream",
     "text": [
      "Model: \"my_model_2\"\n",
      "_________________________________________________________________\n",
      "Layer (type)                 Output Shape              Param #   \n",
      "=================================================================\n",
      "my_dense_6 (MyDense)         multiple                  200960    \n",
      "_________________________________________________________________\n",
      "my_dense_7 (MyDense)         multiple                  32896     \n",
      "_________________________________________________________________\n",
      "my_dense_8 (MyDense)         multiple                  1290      \n",
      "=================================================================\n",
      "Total params: 235,146\n",
      "Trainable params: 235,146\n",
      "Non-trainable params: 0\n",
      "_________________________________________________________________\n"
     ]
    }
   ],
   "source": [
    "network.summary()"
   ]
  }
 ],
 "metadata": {
  "kernelspec": {
   "display_name": "Python 3",
   "language": "python",
   "name": "python3"
  },
  "language_info": {
   "codemirror_mode": {
    "name": "ipython",
    "version": 3
   },
   "file_extension": ".py",
   "mimetype": "text/x-python",
   "name": "python",
   "nbconvert_exporter": "python",
   "pygments_lexer": "ipython3",
   "version": "3.7.3"
  }
 },
 "nbformat": 4,
 "nbformat_minor": 2
}

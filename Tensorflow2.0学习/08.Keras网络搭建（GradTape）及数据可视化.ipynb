{
 "cells": [
  {
   "cell_type": "markdown",
   "metadata": {},
   "source": [
    "# Fashion MNIST Keras\n",
    "\n",
    "\n",
    "- Tensorflow搭建model\n",
    "- 使用Keras进行BP\n",
    "- 可视化"
   ]
  },
  {
   "cell_type": "code",
   "execution_count": 29,
   "metadata": {},
   "outputs": [],
   "source": [
    "import tensorflow as tf\n",
    "import numpy as np\n",
    "from tensorflow import keras\n",
    "from tensorflow.keras import datasets,layers,optimizers,Sequential,metrics"
   ]
  },
  {
   "cell_type": "code",
   "execution_count": 17,
   "metadata": {},
   "outputs": [
    {
     "data": {
      "text/plain": [
       "(60000, 28, 28)"
      ]
     },
     "execution_count": 17,
     "metadata": {},
     "output_type": "execute_result"
    }
   ],
   "source": [
    "# 导入数据集\n",
    "(x,y),(x_t,y_t) = datasets.fashion_mnist.load_data()\n",
    "x.shape"
   ]
  },
  {
   "cell_type": "code",
   "execution_count": 7,
   "metadata": {},
   "outputs": [
    {
     "data": {
      "text/plain": [
       "(10000, 28, 28)"
      ]
     },
     "execution_count": 7,
     "metadata": {},
     "output_type": "execute_result"
    }
   ],
   "source": [
    "x_t.shape"
   ]
  },
  {
   "cell_type": "code",
   "execution_count": 50,
   "metadata": {},
   "outputs": [],
   "source": [
    "# 制作数据集\n",
    "batch_size = 128\n",
    "def pre_process(x,y):\n",
    "    x = tf.cast(x,dtype=tf.float32)\n",
    "    x = tf.convert_to_tensor(x,dtype=tf.float32) /255.\n",
    "    y = tf.cast(y,dtype=tf.int32)\n",
    "    return x,y\n",
    "\n",
    "db = tf.data.Dataset.from_tensor_slices((x,y))\n",
    "db = db.map(pre_process).shuffle(5000).batch(batch_size)\n",
    "db_t = tf.data.Dataset.from_tensor_slices((x_t,y_t))\n",
    "db_t = db_t.map(pre_process).shuffle(5000).batch(batch_size)\n",
    "\n",
    "db_iter = iter(db)"
   ]
  },
  {
   "cell_type": "code",
   "execution_count": 21,
   "metadata": {},
   "outputs": [
    {
     "name": "stdout",
     "output_type": "stream",
     "text": [
      "Model: \"sequential\"\n",
      "_________________________________________________________________\n",
      "Layer (type)                 Output Shape              Param #   \n",
      "=================================================================\n",
      "dense (Dense)                multiple                  200960    \n",
      "_________________________________________________________________\n",
      "dense_1 (Dense)              multiple                  32896     \n",
      "_________________________________________________________________\n",
      "dense_2 (Dense)              multiple                  8256      \n",
      "_________________________________________________________________\n",
      "dense_3 (Dense)              multiple                  2080      \n",
      "_________________________________________________________________\n",
      "dense_4 (Dense)              multiple                  330       \n",
      "=================================================================\n",
      "Total params: 244,522\n",
      "Trainable params: 244,522\n",
      "Non-trainable params: 0\n",
      "_________________________________________________________________\n"
     ]
    }
   ],
   "source": [
    "# 搭建网络\n",
    "\n",
    "model = Sequential([\n",
    "    layers.Dense(256,activation=tf.nn.relu) ,\n",
    "    layers.Dense(128,activation=tf.nn.relu) ,\n",
    "    layers.Dense(64,activation=tf.nn.relu) ,\n",
    "    layers.Dense(32,activation=tf.nn.relu) ,\n",
    "    layers.Dense(10)\n",
    "])\n",
    "model.build(input_shape=[None,28*28])\n",
    "model.summary()\n"
   ]
  },
  {
   "cell_type": "code",
   "execution_count": 74,
   "metadata": {},
   "outputs": [],
   "source": [
    "# 训练\n",
    "\n",
    "def train(db,db_test,max_iter):\n",
    "    opt = optimizers.Adam()\n",
    "    for i in range(max_iter):\n",
    "        for j,(x,y) in enumerate(db):\n",
    "            x = tf.reshape(x,[-1,28*28])\n",
    "            with tf.GradientTape() as tape:\n",
    "                hidd = model(x)\n",
    "                y_one_hot = tf.one_hot(y,depth=10)\n",
    "                loss = tf.reduce_mean(tf.losses.categorical_crossentropy(y_one_hot,hidd,from_logits = True))\n",
    "            grads = tape.gradient(loss,model.trainable_variables)\n",
    "            opt.apply_gradients(zip(grads,model.trainable_variables))\n",
    "            if j%100 == 0:\n",
    "                print(i,'-',j,'--> loss = ',float(loss))\n",
    "        # validation\n",
    "        cor_num = 0\n",
    "        num = 0\n",
    "        for  x,y in db_test:\n",
    "            x = tf.reshape(x,[-1,28*28]) \n",
    "            prob = tf.nn.softmax(model(x),axis=1)    # b , 10\n",
    "            pred = tf.argmax(prob,axis=1)\n",
    "            pred = tf.cast(pred,dtype=tf.int32)\n",
    "            corr = tf.equal(y,pred)\n",
    "            cor_num += tf.reduce_sum(tf.cast(corr,dtype=tf.int32))\n",
    "            num += x.shape[0]\n",
    "        print('acc = %.6f' % float(cor_num/num))\n",
    "            "
   ]
  },
  {
   "cell_type": "code",
   "execution_count": 75,
   "metadata": {},
   "outputs": [
    {
     "name": "stdout",
     "output_type": "stream",
     "text": [
      "0 - 0 --> loss =  0.08530659228563309\n",
      "0 - 100 --> loss =  0.17189857363700867\n",
      "0 - 200 --> loss =  0.10539513826370239\n",
      "0 - 300 --> loss =  0.11625084280967712\n",
      "0 - 400 --> loss =  0.10358424484729767\n",
      "acc = 0.884500\n",
      "1 - 0 --> loss =  0.049116261303424835\n",
      "1 - 100 --> loss =  0.12599235773086548\n",
      "1 - 200 --> loss =  0.10951802879571915\n",
      "1 - 300 --> loss =  0.133076012134552\n",
      "1 - 400 --> loss =  0.09060138463973999\n",
      "acc = 0.882600\n",
      "2 - 0 --> loss =  0.06419236958026886\n",
      "2 - 100 --> loss =  0.1400873064994812\n",
      "2 - 200 --> loss =  0.08423995971679688\n",
      "2 - 300 --> loss =  0.16700324416160583\n",
      "2 - 400 --> loss =  0.10230924189090729\n",
      "acc = 0.885500\n"
     ]
    }
   ],
   "source": [
    "train(db,db_t,3)"
   ]
  },
  {
   "cell_type": "markdown",
   "metadata": {},
   "source": [
    "### 可视化\n",
    "\n",
    "\n",
    "搭配tensorflow的可视化工具：Tensorboard\n",
    "\n",
    "工作原理：\n",
    "    - 监听tensorflow在磁盘记录的log\n",
    "    - 建立监听实例（可远程监听）\n",
    "`\n",
    "tensorboard --logdir logs\n",
    "`\n",
    "\n",
    "步骤：\n",
    "1. 在文件夹下开启tensorboard\n",
    "`\n",
    "tensorboard --logdir logs\n",
    "`\n",
    "\n",
    "2. 复制网址（端口号6006）\n",
    "*注意：localhost:6006没用，需要复制控制台显示的网址*\n",
    "\n",
    "3. 在py文件中添加tensorboard代码\n",
    "   - tf.summary.create_file_writer(file_name)  file_name 通常是时间\n",
    "   - 在训练的for循环中添加监控变量或图片\n",
    "   ```\n",
    "       with summary_writer.as_default():\n",
    "           tf.summary.scalar('loss',float(loss),step = j)\n",
    "   ```"
   ]
  }
 ],
 "metadata": {
  "kernelspec": {
   "display_name": "Python 3",
   "language": "python",
   "name": "python3"
  },
  "language_info": {
   "codemirror_mode": {
    "name": "ipython",
    "version": 3
   },
   "file_extension": ".py",
   "mimetype": "text/x-python",
   "name": "python",
   "nbconvert_exporter": "python",
   "pygments_lexer": "ipython3",
   "version": "3.7.3"
  }
 },
 "nbformat": 4,
 "nbformat_minor": 2
}

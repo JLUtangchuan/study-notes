{
 "cells": [
  {
   "cell_type": "markdown",
   "metadata": {},
   "source": [
    "# 12. SIGAI学习笔记\n",
    "---\n",
    "\n",
    "#### tensorflow框架\n",
    "\n",
    "<img src=\"./img/全景图.png\" style=\"width:400px\">\n",
    "\n",
    "##### Training\n",
    "   - Read & Preprocess Data\n",
    "   - tf.keras Estimator\n",
    "   > workflow\n",
    " <img src=\"./img/workflow.png\" style=\"width:400px\">\n",
    "     \n",
    "      \n",
    "##### Deployment\n",
    "\n",
    " 1. 必学知识\n",
    " 2. 选学知识\n",
    " \n",
    " ---\n",
    " \n",
    " \n",
    " "
   ]
  },
  {
   "cell_type": "markdown",
   "metadata": {},
   "source": [
    "### Eager Execution\n",
    "> 之前的版本tensorflow保存的是计算的流程，在建立好模型并使用Session run之后，才能输出值；Eager模式可以不用考虑run（eager 计算和定义同时完成 vs lazy 先定义后计算）\n",
    "\n",
    "\n",
    "\n"
   ]
  },
  {
   "cell_type": "code",
   "execution_count": 1,
   "metadata": {},
   "outputs": [
    {
     "name": "stdout",
     "output_type": "stream",
     "text": [
      "2.0.0-beta1\n",
      "True\n",
      "2.2.4-tf\n"
     ]
    }
   ],
   "source": [
    "import tensorflow as tf\n",
    "print(tf.__version__)\n",
    "print(tf.executing_eagerly()) # Eager Execution ()\n",
    "print(tf.keras.__version__)"
   ]
  },
  {
   "cell_type": "markdown",
   "metadata": {},
   "source": [
    "#### tensorflow numpy转换"
   ]
  },
  {
   "cell_type": "code",
   "execution_count": 2,
   "metadata": {},
   "outputs": [
    {
     "name": "stdout",
     "output_type": "stream",
     "text": [
      "[[-0.28109979 -1.62704702 -1.43656204  0.62844898]\n",
      " [ 0.31583277 -0.56999273 -2.15833438  1.25290678]\n",
      " [-0.80559031  0.32686126 -1.26503973  0.87022618]]\n"
     ]
    }
   ],
   "source": [
    "import numpy as np\n",
    "a = np.random.normal(size=[3,4])\n",
    "b = tf.convert_to_tensor(a)\n",
    "c = b.numpy()\n",
    "print(c)"
   ]
  },
  {
   "cell_type": "markdown",
   "metadata": {},
   "source": [
    "#### Variable on GPU or CPU"
   ]
  },
  {
   "cell_type": "code",
   "execution_count": 8,
   "metadata": {},
   "outputs": [
    {
     "name": "stdout",
     "output_type": "stream",
     "text": [
      "/job:localhost/replica:0/task:0/device:CPU:0\n",
      "OK\n"
     ]
    },
    {
     "data": {
      "text/plain": [
       "'/job:localhost/replica:0/task:0/device:CPU:0'"
      ]
     },
     "execution_count": 8,
     "metadata": {},
     "output_type": "execute_result"
    }
   ],
   "source": [
    "# show device\n",
    "print(b.device) # cpu\n",
    "\n",
    "\n",
    "if tf.test.is_gpu_available():\n",
    "    print('OK')\n",
    "# \n",
    "# change to GPU\n",
    "with tf.device('/device:GPU:0'):\n",
    "    d = tf.convert_to_tensor([1,2])\n",
    "d.device"
   ]
  },
  {
   "cell_type": "code",
   "execution_count": null,
   "metadata": {},
   "outputs": [],
   "source": [
    "from tensorflow.python.client import device_lib\n",
    "\n",
    "# 列出所有的本地机器设备\n",
    "local_device_protos = device_lib.list_local_devices()\n",
    "# 打印\n",
    "#     print(local_device_protos)\n",
    "\n",
    "# 只打印GPU设备\n",
    "[print(x) for x in local_device_protos if x.device_type == 'GPU']\n"
   ]
  },
  {
   "cell_type": "code",
   "execution_count": null,
   "metadata": {},
   "outputs": [],
   "source": []
  }
 ],
 "metadata": {
  "kernelspec": {
   "display_name": "Python 3",
   "language": "python",
   "name": "python3"
  },
  "language_info": {
   "codemirror_mode": {
    "name": "ipython",
    "version": 3
   },
   "file_extension": ".py",
   "mimetype": "text/x-python",
   "name": "python",
   "nbconvert_exporter": "python",
   "pygments_lexer": "ipython3",
   "version": "3.7.3"
  }
 },
 "nbformat": 4,
 "nbformat_minor": 2
}

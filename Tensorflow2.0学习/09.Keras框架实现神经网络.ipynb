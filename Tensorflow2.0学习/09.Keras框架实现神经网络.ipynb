{
 "cells": [
  {
   "cell_type": "markdown",
   "metadata": {},
   "source": [
    "# Keras 训练\n",
    "\n",
    "\n",
    "Keras封装了一套训练的标准流程： 配置->训练->验证->预测\n",
    "\n",
    "\n",
    "1. Compile\n",
    "2. Fit\n",
    "3. Evaluate\n",
    "4. Predict"
   ]
  },
  {
   "cell_type": "code",
   "execution_count": 1,
   "metadata": {},
   "outputs": [],
   "source": [
    "import tensorflow as tf\n",
    "from tensorflow import keras\n",
    "from tensorflow.keras import metrics,optimizers,Sequential,datasets,layers"
   ]
  },
  {
   "cell_type": "code",
   "execution_count": 2,
   "metadata": {},
   "outputs": [],
   "source": [
    "# 导入数据\n",
    "\n",
    "(x,y),(x_test,y_test) = datasets.fashion_mnist.load_data()"
   ]
  },
  {
   "cell_type": "code",
   "execution_count": 3,
   "metadata": {},
   "outputs": [],
   "source": [
    "# 制作标准数据集\n",
    "batch_size = 100\n",
    "def pre_process(x,y):\n",
    "    x = tf.reshape(x,[28*28])\n",
    "    x = tf.cast(x,dtype=tf.float32)/255.0\n",
    "    y = tf.cast(y,dtype=tf.int32)\n",
    "    return x,y\n",
    "\n",
    "\n",
    "db = tf.data.Dataset.from_tensor_slices((x,y))\n",
    "db = db.map(pre_process)\n",
    "db = db.shuffle(5000).batch(batch_size)\n",
    "\n",
    "db_test = tf.data.Dataset.from_tensor_slices((x_test,y_test))\n",
    "db_test = db_test.map(pre_process)\n",
    "db_test = db_test.shuffle(5000).batch(batch_size)\n"
   ]
  },
  {
   "cell_type": "code",
   "execution_count": 4,
   "metadata": {},
   "outputs": [],
   "source": [
    "# 搭建模型\n",
    "\n",
    "network = Sequential([\n",
    "    layers.Dense(256,activation=tf.nn.relu),\n",
    "    layers.Dense(128,activation=tf.nn.relu),\n",
    "    layers.Dense(64,activation=tf.nn.relu),\n",
    "    layers.Dense(32,activation=tf.nn.relu),\n",
    "    layers.Dense(10,activation=tf.nn.softmax),\n",
    "])\n",
    "\n",
    "# network.build(input_shape = [None,28*28])\n",
    "# network.summary()"
   ]
  },
  {
   "cell_type": "code",
   "execution_count": 5,
   "metadata": {},
   "outputs": [],
   "source": [
    "# 配置训练\n",
    "\n",
    "network.compile(optimizer=optimizers.Adam(learning_rate = 0.001),\n",
    "                loss = 'sparse_categorical_crossentropy',\n",
    "                metrics=['accuracy']\n",
    "                )"
   ]
  },
  {
   "cell_type": "code",
   "execution_count": 6,
   "metadata": {},
   "outputs": [
    {
     "name": "stdout",
     "output_type": "stream",
     "text": [
      "Epoch 1/10\n"
     ]
    },
    {
     "name": "stderr",
     "output_type": "stream",
     "text": [
      "WARNING: Logging before flag parsing goes to stderr.\n",
      "W0916 15:07:26.378888 12764 deprecation.py:323] From E:\\ProgramData\\Anaconda3\\lib\\site-packages\\tensorflow\\python\\ops\\math_grad.py:1250: add_dispatch_support.<locals>.wrapper (from tensorflow.python.ops.array_ops) is deprecated and will be removed in a future version.\n",
      "Instructions for updating:\n",
      "Use tf.where in 2.0, which has the same broadcast rule as np.where\n"
     ]
    },
    {
     "name": "stdout",
     "output_type": "stream",
     "text": [
      "600/600 [==============================] - 5s 8ms/step - loss: 0.5318 - accuracy: 0.7474 - val_loss: 0.4246 - val_accuracy: 0.8497\n",
      "Epoch 2/10\n",
      "600/600 [==============================] - 3s 6ms/step - loss: 0.3736 - accuracy: 0.8602 - val_loss: 0.3744 - val_accuracy: 0.8649\n",
      "Epoch 3/10\n",
      "600/600 [==============================] - 3s 6ms/step - loss: 0.3320 - accuracy: 0.8756 - val_loss: 0.3582 - val_accuracy: 0.8720\n",
      "Epoch 4/10\n",
      "600/600 [==============================] - 3s 6ms/step - loss: 0.3089 - accuracy: 0.8840 - val_loss: 0.3557 - val_accuracy: 0.8741\n",
      "Epoch 5/10\n",
      "600/600 [==============================] - 3s 6ms/step - loss: 0.2882 - accuracy: 0.8923 - val_loss: 0.3494 - val_accuracy: 0.8728\n",
      "Epoch 6/10\n",
      "600/600 [==============================] - 3s 6ms/step - loss: 0.2752 - accuracy: 0.8950 - val_loss: 0.3607 - val_accuracy: 0.8728\n",
      "Epoch 7/10\n",
      "600/600 [==============================] - 3s 6ms/step - loss: 0.2602 - accuracy: 0.9007 - val_loss: 0.3499 - val_accuracy: 0.8764\n",
      "Epoch 8/10\n",
      "600/600 [==============================] - 3s 6ms/step - loss: 0.2509 - accuracy: 0.9047 - val_loss: 0.3502 - val_accuracy: 0.8775\n",
      "Epoch 9/10\n",
      "600/600 [==============================] - 3s 6ms/step - loss: 0.2383 - accuracy: 0.9088 - val_loss: 0.3589 - val_accuracy: 0.8789\n",
      "Epoch 10/10\n",
      "600/600 [==============================] - 3s 6ms/step - loss: 0.2292 - accuracy: 0.9125 - val_loss: 0.3588 - val_accuracy: 0.8812\n"
     ]
    },
    {
     "data": {
      "text/plain": [
       "<tensorflow.python.keras.callbacks.History at 0x114875f6470>"
      ]
     },
     "execution_count": 6,
     "metadata": {},
     "output_type": "execute_result"
    }
   ],
   "source": [
    "network.fit(db ,epochs = 10,validation_data=db_test)\n"
   ]
  },
  {
   "cell_type": "code",
   "execution_count": 7,
   "metadata": {},
   "outputs": [],
   "source": [
    "list(iter(db_test))[0][1].shape\n",
    "\n",
    "xx = list(iter(db_test))[0][0]\n",
    "yy = list(iter(db_test))[0][1]\n",
    "img = tf.reshape(xx[1],[28,28])\n",
    "\n"
   ]
  },
  {
   "cell_type": "code",
   "execution_count": 8,
   "metadata": {},
   "outputs": [
    {
     "data": {
      "text/plain": [
       "<matplotlib.image.AxesImage at 0x115feec1f98>"
      ]
     },
     "execution_count": 8,
     "metadata": {},
     "output_type": "execute_result"
    }
   ],
   "source": [
    "from matplotlib import pyplot as plt\n",
    "plt.imshow(img)"
   ]
  },
  {
   "cell_type": "code",
   "execution_count": 9,
   "metadata": {},
   "outputs": [
    {
     "data": {
      "text/plain": [
       "array([[1.1180358e-10, 2.1822004e-10, 5.0466748e-14, 2.2881248e-15,\n",
       "        2.2131021e-09, 7.1421691e-09, 6.6945095e-11, 7.1653076e-06,\n",
       "        1.3758004e-10, 9.9999285e-01],\n",
       "       [1.0251325e-07, 1.1644740e-06, 9.7123745e-07, 1.2281089e-05,\n",
       "        1.7974749e-08, 8.5166240e-01, 4.5002321e-07, 1.4827771e-01,\n",
       "        4.9192304e-06, 3.9951188e-05]], dtype=float32)"
      ]
     },
     "execution_count": 9,
     "metadata": {},
     "output_type": "execute_result"
    }
   ],
   "source": [
    "o = network.predict(xx[:2])\n",
    "o\n"
   ]
  }
 ],
 "metadata": {
  "kernelspec": {
   "display_name": "Python 3",
   "language": "python",
   "name": "python3"
  },
  "language_info": {
   "codemirror_mode": {
    "name": "ipython",
    "version": 3
   },
   "file_extension": ".py",
   "mimetype": "text/x-python",
   "name": "python",
   "nbconvert_exporter": "python",
   "pygments_lexer": "ipython3",
   "version": "3.7.3"
  }
 },
 "nbformat": 4,
 "nbformat_minor": 2
}

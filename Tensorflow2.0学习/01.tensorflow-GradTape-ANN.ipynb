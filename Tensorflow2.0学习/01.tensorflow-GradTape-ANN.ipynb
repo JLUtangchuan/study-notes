{
 "cells": [
  {
   "cell_type": "markdown",
   "metadata": {},
   "source": [
    "# tensorflow基本运算实现ANN\n"
   ]
  },
  {
   "cell_type": "code",
   "execution_count": 3,
   "metadata": {},
   "outputs": [
    {
     "data": {
      "text/plain": [
       "(60000, 28, 28)"
      ]
     },
     "execution_count": 3,
     "metadata": {},
     "output_type": "execute_result"
    }
   ],
   "source": [
    "import tensorflow as tf\n",
    "from tensorflow import keras\n",
    "from tensorflow.keras import datasets\n",
    "import numpy as np\n",
    "\n",
    "# Load mnist\n",
    "(x,y),_ = datasets.mnist.load_data()\n",
    "x.shape\n"
   ]
  },
  {
   "cell_type": "code",
   "execution_count": 4,
   "metadata": {
    "scrolled": true
   },
   "outputs": [
    {
     "data": {
      "text/plain": [
       "(60000,)"
      ]
     },
     "execution_count": 4,
     "metadata": {},
     "output_type": "execute_result"
    }
   ],
   "source": [
    "y.shape"
   ]
  },
  {
   "cell_type": "code",
   "execution_count": 5,
   "metadata": {},
   "outputs": [],
   "source": [
    "# 转换为tensor\n",
    "x = tf.convert_to_tensor(x,dtype=tf.float32)\n",
    "y = tf.convert_to_tensor(y,dtype=tf.int32)"
   ]
  },
  {
   "cell_type": "code",
   "execution_count": 6,
   "metadata": {},
   "outputs": [
    {
     "data": {
      "text/plain": [
       "<tf.Tensor: id=10, shape=(), dtype=float32, numpy=0.0>"
      ]
     },
     "execution_count": 6,
     "metadata": {},
     "output_type": "execute_result"
    }
   ],
   "source": [
    "tf.reduce_min(x)"
   ]
  },
  {
   "cell_type": "code",
   "execution_count": 7,
   "metadata": {},
   "outputs": [
    {
     "data": {
      "text/plain": [
       "<tf.Tensor: id=13, shape=(), dtype=float32, numpy=255.0>"
      ]
     },
     "execution_count": 7,
     "metadata": {},
     "output_type": "execute_result"
    }
   ],
   "source": [
    "tf.reduce_max(x)"
   ]
  },
  {
   "cell_type": "code",
   "execution_count": 8,
   "metadata": {},
   "outputs": [],
   "source": [
    "# x - 数据范围 0-255\n",
    "# 做归一化\n",
    "x = (x-tf.reduce_min(x))/(tf.reduce_max(x)-tf.reduce_min(x))"
   ]
  },
  {
   "cell_type": "code",
   "execution_count": 9,
   "metadata": {},
   "outputs": [],
   "source": [
    "# 创建数据集\n",
    "train_db = tf.data.Dataset.from_tensor_slices((x,y)).batch(128)\n",
    "train_iter = iter(train_db)\n",
    "sample = next(train_iter)"
   ]
  },
  {
   "cell_type": "code",
   "execution_count": 10,
   "metadata": {},
   "outputs": [
    {
     "data": {
      "text/plain": [
       "TensorShape([128, 28, 28])"
      ]
     },
     "execution_count": 10,
     "metadata": {},
     "output_type": "execute_result"
    }
   ],
   "source": [
    "sample[0].shape  # 128,28,28"
   ]
  },
  {
   "cell_type": "code",
   "execution_count": 11,
   "metadata": {},
   "outputs": [],
   "source": [
    "# w [dim_in,dim_out]\n",
    "# b [dim_out]\n",
    "\n",
    "w1 = tf.Variable(tf.random.truncated_normal([28*28,256]))\n",
    "b1 = tf.Variable(tf.zeros([256]))\n",
    "w2 = tf.Variable(tf.random.truncated_normal([256,128]))\n",
    "b2 = tf.Variable(tf.zeros([128]))\n",
    "w3 = tf.Variable(tf.random.truncated_normal([128,10]))\n",
    "b3 = tf.Variable(tf.zeros([10]))"
   ]
  },
  {
   "cell_type": "code",
   "execution_count": 21,
   "metadata": {},
   "outputs": [
    {
     "name": "stdout",
     "output_type": "stream",
     "text": [
      "Step 0  loss =  0.10468749701976776\n",
      "Step 100  loss =  0.10233297199010849\n",
      "Step 200  loss =  0.10078451782464981\n",
      "Step 300  loss =  0.1015625\n",
      "Step 400  loss =  0.10078124701976776\n",
      "Step 0  loss =  0.10468749701976776\n",
      "Step 100  loss =  0.1023326963186264\n",
      "Step 200  loss =  0.10078331083059311\n",
      "Step 300  loss =  0.1015625\n",
      "Step 400  loss =  0.10078124701976776\n",
      "Step 0  loss =  0.10468749701976776\n",
      "Step 100  loss =  0.10233241319656372\n",
      "Step 200  loss =  0.10078253597021103\n",
      "Step 300  loss =  0.1015625\n",
      "Step 400  loss =  0.10078124701976776\n",
      "Step 0  loss =  0.10468749701976776\n",
      "Step 100  loss =  0.10233213007450104\n",
      "Step 200  loss =  0.10078203678131104\n",
      "Step 300  loss =  0.1015625\n",
      "Step 400  loss =  0.10078124701976776\n",
      "Step 0  loss =  0.10468749701976776\n",
      "Step 100  loss =  0.10233183205127716\n",
      "Step 200  loss =  0.10078173875808716\n",
      "Step 300  loss =  0.1015625\n",
      "Step 400  loss =  0.10078124701976776\n",
      "Step 0  loss =  0.10468749701976776\n",
      "Step 100  loss =  0.1023315042257309\n",
      "Step 200  loss =  0.10078154504299164\n",
      "Step 300  loss =  0.1015625\n",
      "Step 400  loss =  0.10078124701976776\n",
      "Step 0  loss =  0.10468749701976776\n",
      "Step 100  loss =  0.10233118385076523\n",
      "Step 200  loss =  0.10078144073486328\n",
      "Step 300  loss =  0.1015625\n",
      "Step 400  loss =  0.10078124701976776\n",
      "Step 0  loss =  0.10468749701976776\n",
      "Step 100  loss =  0.10233084112405777\n",
      "Step 200  loss =  0.10078136622905731\n",
      "Step 300  loss =  0.1015625\n",
      "Step 400  loss =  0.10078124701976776\n",
      "Step 0  loss =  0.10468749701976776\n",
      "Step 100  loss =  0.10233046859502792\n",
      "Step 200  loss =  0.10078132152557373\n",
      "Step 300  loss =  0.1015625\n",
      "Step 400  loss =  0.10078124701976776\n",
      "Step 0  loss =  0.10468749701976776\n",
      "Step 100  loss =  0.10233010351657867\n",
      "Step 200  loss =  0.10078129917383194\n",
      "Step 300  loss =  0.1015625\n",
      "Step 400  loss =  0.10078124701976776\n"
     ]
    }
   ],
   "source": [
    "lr = 0.0001\n",
    "for i in range(10):\n",
    "    for step,(x,y) in enumerate(train_db):\n",
    "\n",
    "        x = tf.reshape(x,[-1,28*28])\n",
    "        with tf.GradientTape() as tape:\n",
    "            h1 = x@w1+b1\n",
    "            o1 = tf.nn.relu(h1)\n",
    "            h2 = o1@w2+b2\n",
    "            o2 = tf.nn.relu(h2)\n",
    "            h3 = o2@w3+b3\n",
    "            out = tf.nn.sigmoid(h3)\n",
    "            # one_hot\n",
    "            y_one_hot = tf.one_hot(y,depth = 10)\n",
    "            loss = tf.square(y_one_hot-out)\n",
    "            loss = tf.reduce_mean(loss)\n",
    "        if step%100==0:\n",
    "            print('Step',step,' loss = ',float(loss))\n",
    "        grads = tape.gradient(loss,[w1,b1,w2,b2,w3,b3])\n",
    "        # 出现问题：Nonetype\n",
    "        w1.assign_sub(lr*grads[0])\n",
    "        b1.assign_sub(lr*grads[1])\n",
    "        w2.assign_sub(lr*grads[2])\n",
    "        b2.assign_sub(lr*grads[3])\n",
    "        w3.assign_sub(lr*grads[4])\n",
    "        b3.assign_sub(lr*grads[5])\n",
    "\n",
    "    "
   ]
  }
 ],
 "metadata": {
  "kernelspec": {
   "display_name": "Python 3",
   "language": "python",
   "name": "python3"
  },
  "language_info": {
   "codemirror_mode": {
    "name": "ipython",
    "version": 3
   },
   "file_extension": ".py",
   "mimetype": "text/x-python",
   "name": "python",
   "nbconvert_exporter": "python",
   "pygments_lexer": "ipython3",
   "version": "3.7.3"
  }
 },
 "nbformat": 4,
 "nbformat_minor": 2
}

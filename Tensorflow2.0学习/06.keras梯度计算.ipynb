{
 "cells": [
  {
   "cell_type": "markdown",
   "metadata": {},
   "source": [
    "# Tensorflow梯度计算\n",
    "\n",
    "使用函数\n",
    "```\n",
    "with tf.GradientTape() as tape:\n",
    "    tape.watch([])  # [] 内为constant的待计算梯度的向量\n",
    "        # 注：tf.Variable自动计算梯度\n",
    "    grads = tape.gradient(loss,[]) # 返回list中的变量的梯度\n",
    "```\n",
    "\n",
    "\n"
   ]
  },
  {
   "cell_type": "code",
   "execution_count": 52,
   "metadata": {},
   "outputs": [],
   "source": [
    "import tensorflow as tf\n",
    "import numpy as np\n",
    "from tensorflow import keras"
   ]
  },
  {
   "cell_type": "code",
   "execution_count": 53,
   "metadata": {},
   "outputs": [],
   "source": [
    "(x,y),(x_t,y_t) = keras.datasets.boston_housing.load_data()  # 回归\n",
    "\n",
    "x.shape # 404,13\n",
    "x_t.shape # 102,13\n",
    "\n",
    "def normlization(data):\n",
    "    return (data-np.mean(data,axis=0))/np.std(data,axis=0)\n",
    "x = normlization(x)"
   ]
  },
  {
   "cell_type": "code",
   "execution_count": 78,
   "metadata": {},
   "outputs": [
    {
     "name": "stdout",
     "output_type": "stream",
     "text": [
      "begin\n",
      "finish\n"
     ]
    }
   ],
   "source": [
    "print('begin')\n",
    "w = tf.Variable(tf.random.normal([13,1]))\n",
    "b = tf.Variable(tf.zeros([1]))\n",
    "lr = 0.003  # 当loss 训练时为Nan时通常是lr不够小导致的 或者是没有做数据归一化\n",
    "losses = []\n",
    "for i in range(500):\n",
    "    with tf.GradientTape() as tape:\n",
    "        y_pred = x@w+b\n",
    "        loss = tf.reduce_mean(tf.losses.MSE(y,y_pred))\n",
    "        \n",
    "        grads = tape.gradient(loss,[w,b])\n",
    "        losses.append(loss.numpy())\n",
    "    w.assign_sub(lr*grads[0])\n",
    "    b.assign_sub(lr*grads[1])\n",
    "    \n",
    "print('finish')\n"
   ]
  },
  {
   "cell_type": "code",
   "execution_count": 85,
   "metadata": {},
   "outputs": [
    {
     "data": {
      "image/png": "[encoded data removed]",
      "text/plain": [
       "<Figure size 432x288 with 1 Axes>"
      ]
     },
     "metadata": {
      "needs_background": "light"
     },
     "output_type": "display_data"
    }
   ],
   "source": [
    "from matplotlib import pyplot as plt\n",
    "plt.figure()\n",
    "plt.scatter(range(len(losses)),losses)\n",
    "plt.show()"
   ]
  }
 ],
 "metadata": {
  "kernelspec": {
   "display_name": "Python 3",
   "language": "python",
   "name": "python3"
  },
  "language_info": {
   "codemirror_mode": {
    "name": "ipython",
    "version": 3
   },
   "file_extension": ".py",
   "mimetype": "text/x-python",
   "name": "python",
   "nbconvert_exporter": "python",
   "pygments_lexer": "ipython3",
   "version": "3.7.3"
  }
 },
 "nbformat": 4,
 "nbformat_minor": 2
}

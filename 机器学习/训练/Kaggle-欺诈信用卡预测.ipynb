{
 "cells": [
  {
   "cell_type": "markdown",
   "metadata": {},
   "source": [
    "# Kaggle 欺诈信用预测\n",
    "---\n",
    "### 项目背景\n",
    "> 数据集包含由欧洲持卡人于2013年9月使用信用卡进行交的数据。此数据集显示两天内发生的交易，其中284,807笔交易中有492笔被盗刷。数据集非常不平衡，积极的类（被盗刷）占所有交易的0.172％。\n",
    "\n",
    "> 它只包含作为PCA转换结果的数字输入变量。不幸的是，由于保密问题，我们无法提供有关数据的原始功能和更多背景信息。特征V1，V2，... V28是使用PCA获得的主要组件，没有用PCA转换的唯一特征是“时间”和“量”。特征'时间'包含数据集中每个事务和第一个事务之间经过的秒数。特征“金额”是交易金额，此特征可用于实例依赖的成本认知学习。特征'类'是响应变量，如果发生被盗刷，则取值1，否则为0。\n",
    "\n",
    "#### 处理流程\n",
    "0. import  （seaborn/missingno/imblearn）\n",
    "1. 导入数据  `pd.read_csv`\n",
    "2. 查看导入数据的相关信息 `head  shape  info describe matrix`\n",
    "3. 目标变量分布可视化 (严重的不平衡数据)\n",
    "4. 特征衍生 (将以秒为时间单位的特征转化为小时)\n",
    "5. 特征选择 (数据探索)\n",
    "   1. 查看两类交易的covariance\n",
    "   2.  \n",
    "\n",
    "\n",
    "#### 使用pandas、matplotlib、sklearn\n",
    "---\n",
    "\n",
    "#### 参考链接\n",
    "\n",
    "   - [Kaggle](https://link.zhihu.com/?target=https%3A//www.kaggle.com/dalpozz/creditcardfraud)\n",
    "   - [博客](https://www.cnblogs.com/bonelee/p/9087882.html)\n",
    "   \n",
    "#### 学习知识\n",
    "   - 如何使用pandas对数据进行预处理\n",
    "   - 如何使用sklearn对数据进行初步分析\n",
    "   - 使用matplotlib可视化数据\n",
    "   "
   ]
  }
 ],
 "metadata": {
  "kernelspec": {
   "display_name": "Python 3",
   "language": "python",
   "name": "python3"
  },
  "language_info": {
   "codemirror_mode": {
    "name": "ipython",
    "version": 3
   },
   "file_extension": ".py",
   "mimetype": "text/x-python",
   "name": "python",
   "nbconvert_exporter": "python",
   "pygments_lexer": "ipython3",
   "version": "3.7.3"
  }
 },
 "nbformat": 4,
 "nbformat_minor": 2
}

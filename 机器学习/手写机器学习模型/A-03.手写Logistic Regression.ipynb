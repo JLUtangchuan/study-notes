{
 "cells": [
  {
   "cell_type": "markdown",
   "metadata": {},
   "source": [
    "# 手写Logistic Regression\n",
    "\n",
    "- 数学推导与公式\n",
    "   - 逻辑回归实际上是一个线性的分类器\n",
    "   - 决策函数(二分类)\n",
    "      $$f(x)= arg\\max_{Y}^{}\\left( P(Y=0|x),P(Y=1|x)  \\right)  = sign(wx+b)$$\n",
    "      \n",
    "      $$ P(Y=0|x) = sigmoid(wx+b) $$\n",
    "      $$ P(Y=1|x) = 1-P(Y=0|x)$$\n",
    "      \n",
    "      $$sigmoid(x) = \\frac{1}{1+e_{}^{-x}}$$\n",
    "\n",
    "   - 最优化问题\n",
    "     $$arg\\max_{w,b}   ln L(w,b)= \\sum_{i=1}^{n}\\left( (1-y_{i}) \\cdot lnP(Y=0|x_{}^{i})+y_{i}\\cdot lnP(Y=1|x_{}^{i}) \\right)$$\n",
    "     \n",
    "     代入$ P(Y=0|x)=\\frac{1}{1+e_{}^{-wx}}$计算得到\n",
    "     $$ ln L(w,b)= -\\sum_{i=1}^{n}  \\left( y_{i}\\cdot w x_{}^{i} + ln(1+e_{}^{-wx_{}^{i}}) \\right)$$\n",
    "   \n",
    "     计算梯度\n",
    "     $$\\nabla ln L = \\frac{\\sigma L}{\\sigma w} =  \\sum_{i=1}^{n}x_{}^{i} \\cdot(sigmoid(w\\cdot x_{}^{i}) - y_{i})$$\n",
    "     \n",
    "   - 学习方法：梯度上升\n",
    "       $$ w_{}^{t+1} = w_{}^{t} + \\frac{\\sigma L}{\\sigma w}$$\n",
    "    为加速训练，也可以采用SGD进行训练\n",
    "    \n",
    " <br>\n",
    " <br>\n",
    " \n",
    "- 多分类问题\n",
    "   - 将sigmoid函数换成softmax函数\n",
    "   - 参数量 $w:(c-1)\\cdot m$ , $b:c-1$\n",
    "\n",
    "\n",
    "- 引入正则项\n",
    "    - L1与L2\n",
    "    \n",
    "\n",
    "- 求解非线性问题\n",
    "   - 引入核函数\n",
    "      - 多项式核"
   ]
  },
  {
   "cell_type": "code",
   "execution_count": 33,
   "metadata": {},
   "outputs": [],
   "source": [
    "import numpy as np\n",
    "import pandas as pd\n",
    "from sklearn.model_selection import train_test_split\n",
    "from sklearn import datasets\n",
    "import matplotlib.pyplot as plt \n",
    "\n",
    "class LogisticRegression:\n",
    "    \n",
    "    @staticmethod\n",
    "    def sigmoid(x):\n",
    "        return 1/(1+np.exp(x))\n",
    "    \n",
    "    def __init__(self):\n",
    "        self.x = None\n",
    "        self.y = None\n",
    "        self.w = None\n",
    "        \n",
    "        \n",
    "    @staticmethod\n",
    "    def kernal_fun(x,arg = 5,kernal = 'ploy'):\n",
    "        t = np.array(x)\n",
    "        if kernal == 'ploy':\n",
    "            for i in range(arg):\n",
    "                for j in range(i):               \n",
    "                    t = np.hstack((t,np.c_[(x[:,0]**(i-j))*(x[:,1]**j)]))          \n",
    "        return t\n",
    "        \n",
    "    def fit(self,train_x,train_y,max_iters = 10000,lr = 0.001 , batch_size = 0 , show_fun = None):      \n",
    "        num,features = train_x.shape\n",
    "        self.x = np.hstack((np.array(train_x),np.ones((num,1))))\n",
    "        self.y = np.array(train_y) # 0 and 1\n",
    "        self.y = self.y[:,np.newaxis]\n",
    "        self.w = np.array(np.random.normal(size = (features+1)))\n",
    "        L = []\n",
    "        for i in range(max_iters):\n",
    "            sigma = self.SGD(batch_size) # 计算梯度\n",
    "            self.w = self.w + lr*sigma\n",
    "            fx =  LogisticRegression.sigmoid(np.sum(self.w*self.x))\n",
    "            loss = np.sum(self.y.T*(np.sum(self.w*self.x,axis=1)) - np.log(1+np.exp(np.sum(self.w*self.x,axis=1))))\n",
    "            if show_fun is not None:\n",
    "                show_fun(i,loss,self.w)    \n",
    "            L.append(-loss)\n",
    "        return L\n",
    "            \n",
    "    \n",
    "    def SGD(self,batch_size):\n",
    "        batch = None\n",
    "        label = None\n",
    "        if batch_size == 0:\n",
    "            batch = self.x\n",
    "            label = self.y\n",
    "        else:\n",
    "            pass\n",
    "        sigma = np.sum(label*batch - ((1-LogisticRegression.sigmoid(np.sum(self.w*batch,axis=1)))*batch.T).T  ,axis = 0)\n",
    "        return sigma\n",
    "        \n",
    "        \n",
    "        \n",
    "    def predict(self,x,kernel = 'ploy'):\n",
    "        n,_ = x.shape\n",
    "        test_x = np.array(x)\n",
    "        if  kernel == 'ploy' or kernel == ():\n",
    "            kernel = LogisticRegression.kernal_fun\n",
    "            test_x = kernel(test_x)\n",
    "        elif kernel == 'linear':\n",
    "            pass\n",
    "        test_x = np.hstack((test_x,np.ones((n,1))))\n",
    "        p0 = LogisticRegression.sigmoid(np.sum(self.w*test_x,axis=1))\n",
    "        h = np.where(p0>0.5,0,1)\n",
    "        return h"
   ]
  },
  {
   "cell_type": "code",
   "execution_count": 34,
   "metadata": {
    "scrolled": true
   },
   "outputs": [
    {
     "name": "stdout",
     "output_type": "stream",
     "text": [
      "开始训练\n",
      "训练完成\n",
      "[ 0.14984457 -7.33927953 -1.95980424 -8.56979912 -2.86788374  3.2420606\n",
      " -3.40466085  1.78110065  1.53756949  0.74059023 -1.07344314  0.890405\n",
      "  4.1612172 ]\n"
     ]
    },
    {
     "data": {
      "text/plain": [
       "<matplotlib.collections.PathCollection at 0x17f337a6748>"
      ]
     },
     "execution_count": 34,
     "metadata": {},
     "output_type": "execute_result"
    },
    {
     "data": {
      "image/png": "[encoded data removed]",
      "text/plain": [
       "<Figure size 432x288 with 1 Axes>"
      ]
     },
     "metadata": {
      "needs_background": "light"
     },
     "output_type": "display_data"
    }
   ],
   "source": [
    "def plot_decision_boundary(model, X, y,*args):\n",
    "    # Set min and max values and give it some padding\n",
    "    x_min, x_max = X[0, :].min() - 1, X[0, :].max() + 1\n",
    "    y_min, y_max = X[1, :].min() - 1, X[1, :].max() + 1\n",
    "    h = 0.01\n",
    "    # Generate a grid of points with distance h between them\n",
    "    xx, yy = np.meshgrid(np.arange(x_min, x_max, h), np.arange(y_min, y_max, h))\n",
    "    # Predict the function value for the whole grid\n",
    "    Z = model(np.c_[xx.ravel(), yy.ravel()],args)\n",
    "    Z = Z.reshape(xx.shape)\n",
    "    # Plot the contour and training examples\n",
    "    plt.contourf(xx, yy, Z, cmap=plt.cm.Spectral)\n",
    "    plt.ylabel('x2')\n",
    "    plt.xlabel('x1')\n",
    "    plt.scatter(X[0, :], X[1, :], c=y.ravel(), cmap=plt.cm.Spectral)\n",
    "\n",
    "[x,y] = datasets.make_moons(100,noise= 0.1)\n",
    "\n",
    "# x0\n",
    "LR = LogisticRegression()\n",
    "print('开始训练')\n",
    "Loss = LR.fit(LogisticRegression.kernal_fun(x),y)\n",
    "print('训练完成')\n",
    "# print(x)\n",
    "h = LR.predict(x)\n",
    "\n",
    "print(LR.w)\n",
    "x0 = x[np.where(h==0)]\n",
    "x1 = x[np.where(h==1)]\n",
    "\n",
    "plot_decision_boundary(LR.predict,x.T,y)\n",
    "plt.scatter(x0[:,0],x0[:,1],c = 'r')\n",
    "plt.scatter(x1[:,0],x1[:,1],c = 'b')\n",
    "\n"
   ]
  },
  {
   "cell_type": "code",
   "execution_count": 7,
   "metadata": {},
   "outputs": [
    {
     "data": {
      "text/plain": [
       "<matplotlib.collections.PathCollection at 0x17f338e7ac8>"
      ]
     },
     "execution_count": 7,
     "metadata": {},
     "output_type": "execute_result"
    },
    {
     "data": {
      "image/png": "[encoded data removed]",
      "text/plain": [
       "<Figure size 432x288 with 1 Axes>"
      ]
     },
     "metadata": {
      "needs_background": "light"
     },
     "output_type": "display_data"
    }
   ],
   "source": [
    "[x,y] = datasets.make_moons(100,noise= 0.1)\n",
    "x0 = x[np.where(y==0)]\n",
    "x1 = x[np.where(y==1)]\n",
    "plt.scatter(x0[:,0],x0[:,1],c = 'r')\n",
    "plt.scatter(x1[:,0],x1[:,1],c = 'b')"
   ]
  },
  {
   "cell_type": "code",
   "execution_count": 11,
   "metadata": {},
   "outputs": [
    {
     "data": {
      "text/plain": [
       "<matplotlib.collections.PathCollection at 0x21f34400c88>"
      ]
     },
     "execution_count": 11,
     "metadata": {},
     "output_type": "execute_result"
    },
    {
     "data": {
      "image/png": "[encoded data removed]",
      "text/plain": [
       "<Figure size 432x288 with 1 Axes>"
      ]
     },
     "metadata": {
      "needs_background": "light"
     },
     "output_type": "display_data"
    }
   ],
   "source": [
    "plt.scatter(range(len(Loss)),Loss)"
   ]
  },
  {
   "cell_type": "code",
   "execution_count": 36,
   "metadata": {},
   "outputs": [
    {
     "name": "stdout",
     "output_type": "stream",
     "text": [
      "开始训练\n",
      "训练完成\n",
      "[ 7.68289006 -5.38369801  1.20656901]\n"
     ]
    },
    {
     "data": {
      "text/plain": [
       "<matplotlib.collections.PathCollection at 0x17f3d249978>"
      ]
     },
     "execution_count": 36,
     "metadata": {},
     "output_type": "execute_result"
    },
    {
     "data": {
      "image/png": "[encoded data removed]",
      "text/plain": [
       "<Figure size 432x288 with 1 Axes>"
      ]
     },
     "metadata": {
      "needs_background": "light"
     },
     "output_type": "display_data"
    }
   ],
   "source": [
    "iris = datasets.load_iris()\n",
    "xx = iris.data\n",
    "yy = iris.target\n",
    "\n",
    "\n",
    "x = xx[np.where(yy < 2),0:2]\n",
    "x = x[0,:]\n",
    "y = yy[np.where(yy < 2)]\n",
    "\n",
    "# 数据标准化\n",
    "x = (x-np.mean(x,axis=0))/np.std(x,axis=0)\n",
    "\n",
    "LR_iris = LogisticRegression()\n",
    "\n",
    "print('开始训练')\n",
    "Loss = LR_iris.fit(x,y)\n",
    "print('训练完成')\n",
    "# print(Loss)\n",
    "h = LR_iris.predict(x,'linear')\n",
    "\n",
    "print(LR_iris.w)\n",
    "x0 = x[np.where(h==0)]\n",
    "x1 = x[np.where(h==1)]\n",
    "\n",
    "# plot_decision_boundary(LR_iris.predict,x.T,y,'linear')\n",
    "plt.scatter(x0[:,0],x0[:,1],c = 'r')\n",
    "plt.scatter(x1[:,0],x1[:,1],c = 'b')"
   ]
  },
  {
   "cell_type": "code",
   "execution_count": 37,
   "metadata": {},
   "outputs": [
    {
     "data": {
      "text/plain": [
       "<matplotlib.collections.PathCollection at 0x17f3d2517b8>"
      ]
     },
     "execution_count": 37,
     "metadata": {},
     "output_type": "execute_result"
    },
    {
     "data": {
      "image/png": "[encoded data removed]",
      "text/plain": [
       "<Figure size 432x288 with 1 Axes>"
      ]
     },
     "metadata": {
      "needs_background": "light"
     },
     "output_type": "display_data"
    }
   ],
   "source": [
    "plt.scatter(range(len(Loss)),Loss)"
   ]
  }
 ],
 "metadata": {
  "kernelspec": {
   "display_name": "Python 3",
   "language": "python",
   "name": "python3"
  },
  "language_info": {
   "codemirror_mode": {
    "name": "ipython",
    "version": 3
   },
   "file_extension": ".py",
   "mimetype": "text/x-python",
   "name": "python",
   "nbconvert_exporter": "python",
   "pygments_lexer": "ipython3",
   "version": "3.7.3"
  },
  "nbTranslate": {
   "displayLangs": [
    "ch",
    "en"
   ],
   "hotkey": "alt-t",
   "langInMainMenu": true,
   "sourceLang": "en",
   "targetLang": "ch",
   "useGoogleTranslate": true
  }
 },
 "nbformat": 4,
 "nbformat_minor": 2
}

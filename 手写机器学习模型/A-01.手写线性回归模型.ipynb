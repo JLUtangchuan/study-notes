{
 "cells": [
  {
   "cell_type": "markdown",
   "metadata": {},
   "source": [
    "# 手写线性回归模型\n",
    "\n",
    "> 手写一个多维线性回归模型\n",
    "\n",
    "> 基于numpy和pandas\n",
    "\n",
    "> 梯度下降方法 and 解析解计算 两种方法\n",
    "\n",
    "Tips：\n",
    "   1. 数据集(一元、多元)\n",
    "   2. 步骤说明(采用梯度下降方法)\n",
    "   3. 结果演示与验证\n",
    "   \n",
    "   \n",
    "   \n",
    "数据集准备：linear regression dataset\n",
    "    "
   ]
  },
  {
   "cell_type": "code",
   "execution_count": 8,
   "metadata": {},
   "outputs": [
    {
     "data": {
      "text/html": [
       "<div>\n",
       "<style scoped>\n",
       "    .dataframe tbody tr th:only-of-type {\n",
       "        vertical-align: middle;\n",
       "    }\n",
       "\n",
       "    .dataframe tbody tr th {\n",
       "        vertical-align: top;\n",
       "    }\n",
       "\n",
       "    .dataframe thead th {\n",
       "        text-align: right;\n",
       "    }\n",
       "</style>\n",
       "<table border=\"1\" class=\"dataframe\">\n",
       "  <thead>\n",
       "    <tr style=\"text-align: right;\">\n",
       "      <th></th>\n",
       "      <th>YearsExperience</th>\n",
       "      <th>Salary</th>\n",
       "    </tr>\n",
       "  </thead>\n",
       "  <tbody>\n",
       "    <tr>\n",
       "      <th>0</th>\n",
       "      <td>1.1</td>\n",
       "      <td>39343.0</td>\n",
       "    </tr>\n",
       "    <tr>\n",
       "      <th>1</th>\n",
       "      <td>1.3</td>\n",
       "      <td>46205.0</td>\n",
       "    </tr>\n",
       "    <tr>\n",
       "      <th>2</th>\n",
       "      <td>1.5</td>\n",
       "      <td>37731.0</td>\n",
       "    </tr>\n",
       "    <tr>\n",
       "      <th>3</th>\n",
       "      <td>2.0</td>\n",
       "      <td>43525.0</td>\n",
       "    </tr>\n",
       "    <tr>\n",
       "      <th>4</th>\n",
       "      <td>2.2</td>\n",
       "      <td>39891.0</td>\n",
       "    </tr>\n",
       "    <tr>\n",
       "      <th>5</th>\n",
       "      <td>2.9</td>\n",
       "      <td>56642.0</td>\n",
       "    </tr>\n",
       "    <tr>\n",
       "      <th>6</th>\n",
       "      <td>3.0</td>\n",
       "      <td>60150.0</td>\n",
       "    </tr>\n",
       "    <tr>\n",
       "      <th>7</th>\n",
       "      <td>3.2</td>\n",
       "      <td>54445.0</td>\n",
       "    </tr>\n",
       "    <tr>\n",
       "      <th>8</th>\n",
       "      <td>3.2</td>\n",
       "      <td>64445.0</td>\n",
       "    </tr>\n",
       "    <tr>\n",
       "      <th>9</th>\n",
       "      <td>3.7</td>\n",
       "      <td>57189.0</td>\n",
       "    </tr>\n",
       "    <tr>\n",
       "      <th>10</th>\n",
       "      <td>3.9</td>\n",
       "      <td>63218.0</td>\n",
       "    </tr>\n",
       "    <tr>\n",
       "      <th>11</th>\n",
       "      <td>4.0</td>\n",
       "      <td>55794.0</td>\n",
       "    </tr>\n",
       "    <tr>\n",
       "      <th>12</th>\n",
       "      <td>4.0</td>\n",
       "      <td>56957.0</td>\n",
       "    </tr>\n",
       "    <tr>\n",
       "      <th>13</th>\n",
       "      <td>4.1</td>\n",
       "      <td>57081.0</td>\n",
       "    </tr>\n",
       "    <tr>\n",
       "      <th>14</th>\n",
       "      <td>4.5</td>\n",
       "      <td>61111.0</td>\n",
       "    </tr>\n",
       "    <tr>\n",
       "      <th>15</th>\n",
       "      <td>4.9</td>\n",
       "      <td>67938.0</td>\n",
       "    </tr>\n",
       "    <tr>\n",
       "      <th>16</th>\n",
       "      <td>5.1</td>\n",
       "      <td>66029.0</td>\n",
       "    </tr>\n",
       "    <tr>\n",
       "      <th>17</th>\n",
       "      <td>5.3</td>\n",
       "      <td>83088.0</td>\n",
       "    </tr>\n",
       "    <tr>\n",
       "      <th>18</th>\n",
       "      <td>5.9</td>\n",
       "      <td>81363.0</td>\n",
       "    </tr>\n",
       "    <tr>\n",
       "      <th>19</th>\n",
       "      <td>6.0</td>\n",
       "      <td>93940.0</td>\n",
       "    </tr>\n",
       "    <tr>\n",
       "      <th>20</th>\n",
       "      <td>6.8</td>\n",
       "      <td>91738.0</td>\n",
       "    </tr>\n",
       "    <tr>\n",
       "      <th>21</th>\n",
       "      <td>7.1</td>\n",
       "      <td>98273.0</td>\n",
       "    </tr>\n",
       "    <tr>\n",
       "      <th>22</th>\n",
       "      <td>7.9</td>\n",
       "      <td>101302.0</td>\n",
       "    </tr>\n",
       "    <tr>\n",
       "      <th>23</th>\n",
       "      <td>8.2</td>\n",
       "      <td>113812.0</td>\n",
       "    </tr>\n",
       "    <tr>\n",
       "      <th>24</th>\n",
       "      <td>8.7</td>\n",
       "      <td>109431.0</td>\n",
       "    </tr>\n",
       "    <tr>\n",
       "      <th>25</th>\n",
       "      <td>9.0</td>\n",
       "      <td>105582.0</td>\n",
       "    </tr>\n",
       "    <tr>\n",
       "      <th>26</th>\n",
       "      <td>9.5</td>\n",
       "      <td>116969.0</td>\n",
       "    </tr>\n",
       "    <tr>\n",
       "      <th>27</th>\n",
       "      <td>9.6</td>\n",
       "      <td>112635.0</td>\n",
       "    </tr>\n",
       "    <tr>\n",
       "      <th>28</th>\n",
       "      <td>10.3</td>\n",
       "      <td>122391.0</td>\n",
       "    </tr>\n",
       "    <tr>\n",
       "      <th>29</th>\n",
       "      <td>10.5</td>\n",
       "      <td>121872.0</td>\n",
       "    </tr>\n",
       "  </tbody>\n",
       "</table>\n",
       "</div>"
      ],
      "text/plain": [
       "    YearsExperience    Salary\n",
       "0               1.1   39343.0\n",
       "1               1.3   46205.0\n",
       "2               1.5   37731.0\n",
       "3               2.0   43525.0\n",
       "4               2.2   39891.0\n",
       "5               2.9   56642.0\n",
       "6               3.0   60150.0\n",
       "7               3.2   54445.0\n",
       "8               3.2   64445.0\n",
       "9               3.7   57189.0\n",
       "10              3.9   63218.0\n",
       "11              4.0   55794.0\n",
       "12              4.0   56957.0\n",
       "13              4.1   57081.0\n",
       "14              4.5   61111.0\n",
       "15              4.9   67938.0\n",
       "16              5.1   66029.0\n",
       "17              5.3   83088.0\n",
       "18              5.9   81363.0\n",
       "19              6.0   93940.0\n",
       "20              6.8   91738.0\n",
       "21              7.1   98273.0\n",
       "22              7.9  101302.0\n",
       "23              8.2  113812.0\n",
       "24              8.7  109431.0\n",
       "25              9.0  105582.0\n",
       "26              9.5  116969.0\n",
       "27              9.6  112635.0\n",
       "28             10.3  122391.0\n",
       "29             10.5  121872.0"
      ]
     },
     "execution_count": 8,
     "metadata": {},
     "output_type": "execute_result"
    }
   ],
   "source": [
    "import numpy as np\n",
    "import pandas as pd\n",
    "import matplotlib.pyplot as plt\n",
    "\n",
    "data = pd.DataFrame(pd.read_csv(\"./dataset/linear regression dataset.csv\"))\n",
    "\n",
    "data"
   ]
  },
  {
   "cell_type": "code",
   "execution_count": 9,
   "metadata": {},
   "outputs": [
    {
     "name": "stdout",
     "output_type": "stream",
     "text": [
      "Finish\n"
     ]
    }
   ],
   "source": [
    "# 编写class\n",
    "\n",
    "class linearreg:\n",
    "    \n",
    "    def __init__(self):\n",
    "        self.w = None\n",
    "        self.b = None\n",
    "    def loss(self,x,y):\n",
    "        '''\n",
    "        y_ = wx+b\n",
    "        L = (y-y_)**2\n",
    "        \n",
    "        dL/dw =  2*（y_-y）*x\n",
    "        dL/db = 2*(y_-y)\n",
    "        \n",
    "        '''\n",
    "\n",
    "        samples,features = x.shape\n",
    "        labels = y.shape[1]\n",
    "        y_hat = np.add(np.dot(self.w,x.T) , self.b)\n",
    "        L = 0.5*np.sum(np.power(np.add(y_hat,-y.T),2))/samples\n",
    "\n",
    "        dw = (y_hat - y.T).dot(x)/samples # lab feat\n",
    "        db = np.sum(y_hat - y.T,1)/samples  # lab\n",
    "\n",
    "        return dw,db,L\n",
    "        \n",
    "    def train(self,x,y,learning_rate = 0.001,max_iter = 1000):\n",
    "        '''\n",
    "        训练\n",
    "        y_ = wx+b\n",
    "        L = 0.5 * (y-y_)**2\n",
    "        \n",
    "        w,b = initial\n",
    "        \n",
    "        for in\n",
    "         dL/dw,dL/db,L= loss(x,y)\n",
    "         w = w - dL/dw\n",
    "         b = b - dL/db\n",
    "        '''\n",
    "        # 初始化w,b\n",
    "        print('Begin training')\n",
    "        \n",
    "        x = np.array(x)\n",
    "        y = np.array(y)\n",
    "        samples,features = x.shape\n",
    "        labels = y.shape[1]\n",
    "        self.w = np.array(np.ones([labels,features]),dtype = np.float32)\n",
    "        self.b = np.array(np.ones(labels),dtype = np.float32) \n",
    "        # 循环\n",
    "        loss_list = []\n",
    "        for i in range(max_iter): \n",
    "            dw,db,Loss = self.loss(x,y)\n",
    "            self.w = self.w - learning_rate*dw\n",
    "            self.b = self.b - learning_rate*db\n",
    "            loss_list.append(Loss)\n",
    "            if i % 100 == 0:\n",
    "                print(\"第 %d 代 loss = %f\" % (i,Loss))\n",
    "        print('End training')\n",
    "        return loss_list     \n",
    "        \n",
    "    def predict(self,x):\n",
    "        return np.dot(self.w,x.T) + b\n",
    "    \n",
    "    def sep_data(self,data,rate = 0.7,y = None):\n",
    "        '''\n",
    "        分割数据集\n",
    "        '''\n",
    "        import functools\n",
    "        \n",
    "        data = pd.DataFrame(data)\n",
    "        n_sample,n_col = data.shape\n",
    "        train = data.sample(int(n_sample*rate))\n",
    "        test = list(filter(lambda i : i not in list(train.index),list(data.index)))\n",
    "        test = data.loc[test]\n",
    "        if y == None:\n",
    "            y = [data.columns[n_col-1]]\n",
    "        train = train.sort_index()  \n",
    "        x = list(filter(lambda i:i not in y,data.columns))\n",
    "        train_x = train[x]\n",
    "        \n",
    "        train_y = train[y]\n",
    "        test_x = test[x]\n",
    "        test_y = test[y]\n",
    "        \n",
    "        return train_x,train_y,test_x,test_y\n",
    "    \n",
    "print('Finish')"
   ]
  },
  {
   "cell_type": "code",
   "execution_count": 10,
   "metadata": {},
   "outputs": [],
   "source": [
    "lr = linearreg()\n",
    "x,y,test_x,test_y = lr.sep_data(data)"
   ]
  },
  {
   "cell_type": "code",
   "execution_count": 11,
   "metadata": {},
   "outputs": [
    {
     "data": {
      "text/plain": [
       "<matplotlib.collections.PathCollection at 0x2e14019edd8>"
      ]
     },
     "execution_count": 11,
     "metadata": {},
     "output_type": "execute_result"
    },
    {
     "data": {
      "image/png": "[encoded data removed]",
      "text/plain": [
       "<Figure size 432x288 with 1 Axes>"
      ]
     },
     "metadata": {
      "needs_background": "light"
     },
     "output_type": "display_data"
    }
   ],
   "source": [
    "# 绘图\n",
    "plt.scatter(x,y)\n",
    "plt.scatter(test_x,test_y)"
   ]
  },
  {
   "cell_type": "code",
   "execution_count": 12,
   "metadata": {},
   "outputs": [
    {
     "name": "stdout",
     "output_type": "stream",
     "text": [
      "Begin training\n",
      "第 0 代 loss = 3153938985.166904\n",
      "第 100 代 loss = 1616766421.616345\n",
      "第 200 代 loss = 846292456.143230\n",
      "第 300 代 loss = 460060027.825833\n",
      "第 400 代 loss = 266395698.721306\n",
      "第 500 代 loss = 169239777.953084\n",
      "第 600 代 loss = 120450674.142450\n",
      "第 700 代 loss = 95901588.031508\n",
      "第 800 代 loss = 83501052.455077\n",
      "第 900 代 loss = 77189266.810145\n",
      "End training\n"
     ]
    },
    {
     "data": {
      "text/plain": [
       "<matplotlib.collections.PathCollection at 0x2e1402402e8>"
      ]
     },
     "execution_count": 12,
     "metadata": {},
     "output_type": "execute_result"
    },
    {
     "data": {
      "image/png": "[encoded data removed]",
      "text/plain": [
       "<Figure size 432x288 with 1 Axes>"
      ]
     },
     "metadata": {
      "needs_background": "light"
     },
     "output_type": "display_data"
    }
   ],
   "source": [
    "loss = lr.train(x,y,learning_rate=0.0001)\n",
    "plt.scatter(range(len(loss)),loss)"
   ]
  },
  {
   "cell_type": "code",
   "execution_count": 13,
   "metadata": {},
   "outputs": [],
   "source": [
    "arr = np.arange(start = 0 , stop = 15, step = 0.05)\n",
    "y_line = arr*lr.w + lr.b\n"
   ]
  },
  {
   "cell_type": "code",
   "execution_count": 14,
   "metadata": {},
   "outputs": [
    {
     "data": {
      "text/plain": [
       "<matplotlib.collections.PathCollection at 0x2e14029dac8>"
      ]
     },
     "execution_count": 14,
     "metadata": {},
     "output_type": "execute_result"
    },
    {
     "data": {
      "image/png": "[encoded data removed]",
      "text/plain": [
       "<Figure size 432x288 with 1 Axes>"
      ]
     },
     "metadata": {
      "needs_background": "light"
     },
     "output_type": "display_data"
    }
   ],
   "source": [
    "# 绘图\n",
    "plt.scatter(x,y)\n",
    "plt.scatter(test_x,test_y)\n",
    "plt.scatter(arr,y_line)"
   ]
  },
  {
   "cell_type": "markdown",
   "metadata": {},
   "source": [
    "### 采用解析解方法计算线性回归\n",
    "\n",
    "推导见西瓜书P55页\n",
    "说明：此推导是一元线性回归的推导，多元线性回归计算X.T*X的逆不一定存在，因此，不一定存在多元LR的解析解\n",
    "```\n",
    "w = sum(y(x-mean(x))) / (sum(x**2)-sum(x)**2/m)\n",
    "b = 1/m  * sum(y-wx)\n",
    "```"
   ]
  }
 ],
 "metadata": {
  "kernelspec": {
   "display_name": "Python 3",
   "language": "python",
   "name": "python3"
  },
  "language_info": {
   "codemirror_mode": {
    "name": "ipython",
    "version": 3
   },
   "file_extension": ".py",
   "mimetype": "text/x-python",
   "name": "python",
   "nbconvert_exporter": "python",
   "pygments_lexer": "ipython3",
   "version": "3.7.3"
  },
  "nbTranslate": {
   "displayLangs": [
    "ch",
    "en"
   ],
   "hotkey": "alt-t",
   "langInMainMenu": true,
   "sourceLang": "en",
   "targetLang": "ch",
   "useGoogleTranslate": true
  }
 },
 "nbformat": 4,
 "nbformat_minor": 2
}

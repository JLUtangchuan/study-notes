{
 "cells": [
  {
   "cell_type": "markdown",
   "metadata": {},
   "source": [
    "# 手写主成分分析\n",
    "\n",
    "<br>\n",
    "<br>\n",
    "\n",
    "属于线性降维模型，一般用于数据预处理\n",
    "\n",
    "\n",
    "### 算法数学推导\n",
    "1. 首先进行数据标准化 Normlization\n",
    "\n",
    "2. 映射函数\n",
    "\n",
    " $$z = w\\cdot x$$\n",
    "\n",
    "3. 目标函数\n",
    " $$\\max_{w} D(z_{}^{1})  = D(w_{}^{1} \\cdot x)$$\n",
    "  $$\\max_{w} D(z_{}^{2})  = D(w_{}^{2} \\cdot x)$$\n",
    "  $$......$$\n",
    " \n",
    "4. 约束条件\n",
    " \n",
    "  $$s.t.  ||w||_{}^{2} = w_{}^{T} \\cdot w = 1$$\n",
    " \n",
    "5. 结果\n",
    "   \n",
    "   Cov(x) 是半正定的矩阵 ： 所有特征值大于等于0\n",
    "   \n",
    "   最终推导出第一个主成分的$w$恰是$Cov(x)$的最大特征值的特征向量；依此类推。\n",
    "   \n",
    "   \n",
    "   \n",
    "### 编程实现\n",
    "- 数据标准化\n",
    "- 计算协方差\n",
    "- 计算特征值、特征向量\n",
    "- 结果可视化\n",
    "   \n",
    "### 算法应用\n",
    "\n",
    "- 数据压缩\n",
    "- 数据降维\n",
    "- 提取关键信息\n",
    "- 去除噪声"
   ]
  }
 ],
 "metadata": {
  "kernelspec": {
   "display_name": "Python 3",
   "language": "python",
   "name": "python3"
  },
  "language_info": {
   "codemirror_mode": {
    "name": "ipython",
    "version": 3
   },
   "file_extension": ".py",
   "mimetype": "text/x-python",
   "name": "python",
   "nbconvert_exporter": "python",
   "pygments_lexer": "ipython3",
   "version": "3.7.3"
  },
  "nbTranslate": {
   "displayLangs": [
    "ch",
    "en"
   ],
   "hotkey": "alt-t",
   "langInMainMenu": true,
   "sourceLang": "en",
   "targetLang": "ch",
   "useGoogleTranslate": true
  }
 },
 "nbformat": 4,
 "nbformat_minor": 2
}
